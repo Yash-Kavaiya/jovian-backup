{
 "cells": [
  {
   "cell_type": "markdown",
   "metadata": {},
   "source": [
    "# Project Title - Svnit hostel student feedback analysis\n",
    "\n",
    "TODO - Write some introduction about your project here: describe the dataset, where you got it from, what you're trying to do with it, and which tools & techniques you're using. You can also mention about the course [Data Analysis with Python: Zero to Pandas](zerotopandas.com), and what you've learned from it."
   ]
  },
  {
   "cell_type": "markdown",
   "metadata": {},
   "source": [
    "The dataset has been downloaded and extracted."
   ]
  },
  {
   "cell_type": "code",
   "execution_count": 2,
   "metadata": {},
   "outputs": [],
   "source": [
    "project_name = \"Svnithostelfeedback\" # change this (use lowercase letters and hyphens only)"
   ]
  },
  {
   "cell_type": "code",
   "execution_count": 3,
   "metadata": {},
   "outputs": [],
   "source": [
    "!pip install jovian --upgrade -q"
   ]
  },
  {
   "cell_type": "code",
   "execution_count": 4,
   "metadata": {},
   "outputs": [
    {
     "data": {
      "application/javascript": [
       "if (window.IPython && IPython.notebook.kernel) IPython.notebook.kernel.execute('jovian.utils.jupyter.get_notebook_name_saved = lambda: \"' + IPython.notebook.notebook_name + '\"')"
      ],
      "text/plain": [
       "<IPython.core.display.Javascript object>"
      ]
     },
     "metadata": {},
     "output_type": "display_data"
    }
   ],
   "source": [
    "import jovian"
   ]
  },
  {
   "cell_type": "code",
   "execution_count": 5,
   "metadata": {},
   "outputs": [
    {
     "data": {
      "application/javascript": [
       "window.require && require([\"base/js/namespace\"],function(Jupyter){Jupyter.notebook.save_checkpoint()})"
      ],
      "text/plain": [
       "<IPython.core.display.Javascript object>"
      ]
     },
     "metadata": {},
     "output_type": "display_data"
    },
    {
     "name": "stdout",
     "output_type": "stream",
     "text": [
      "[jovian] Attempting to save notebook..\u001b[0m\n",
      "[jovian] Updating notebook \"i16ph021/svnithostelfeedback\" on https://jovian.ai\u001b[0m\n",
      "[jovian] Uploading notebook..\u001b[0m\n",
      "[jovian] Uploading additional files...\u001b[0m\n",
      "[jovian] Committed successfully! https://jovian.ai/i16ph021/svnithostelfeedback\u001b[0m\n"
     ]
    },
    {
     "data": {
      "text/plain": [
       "'https://jovian.ai/i16ph021/svnithostelfeedback'"
      ]
     },
     "execution_count": 5,
     "metadata": {},
     "output_type": "execute_result"
    }
   ],
   "source": [
    "jovian.commit(project=project_name)"
   ]
  },
  {
   "cell_type": "markdown",
   "metadata": {},
   "source": [
    "## Section 1:- Data Preparation and Cleaning\n",
    "\n",
    "1. Collect data from google form\n",
    "2. Delete invalid entry\n",
    "\n",
    "\n"
   ]
  },
  {
   "cell_type": "code",
   "execution_count": 6,
   "metadata": {},
   "outputs": [],
   "source": [
    "import numpy as np\n",
    "import pandas as pd\n",
    "import matplotlib\n",
    "import matplotlib.pyplot as plt\n",
    "import seaborn as sns"
   ]
  },
  {
   "cell_type": "code",
   "execution_count": 7,
   "metadata": {},
   "outputs": [],
   "source": [
    "df = pd.read_csv('Svnitfeedback.csv')"
   ]
  },
  {
   "cell_type": "code",
   "execution_count": 8,
   "metadata": {},
   "outputs": [
    {
     "data": {
      "text/html": [
       "<div>\n",
       "<style scoped>\n",
       "    .dataframe tbody tr th:only-of-type {\n",
       "        vertical-align: middle;\n",
       "    }\n",
       "\n",
       "    .dataframe tbody tr th {\n",
       "        vertical-align: top;\n",
       "    }\n",
       "\n",
       "    .dataframe thead th {\n",
       "        text-align: right;\n",
       "    }\n",
       "</style>\n",
       "<table border=\"1\" class=\"dataframe\">\n",
       "  <thead>\n",
       "    <tr style=\"text-align: right;\">\n",
       "      <th></th>\n",
       "      <th>Timestamp</th>\n",
       "      <th>Choose your Hostel</th>\n",
       "      <th>Are you staying in hostel for  first time</th>\n",
       "      <th>How was your hostel experience</th>\n",
       "      <th>Rate the mess food</th>\n",
       "      <th>Rate the infrastructure</th>\n",
       "      <th>Rate the water supply</th>\n",
       "      <th>Rate the housekeepers</th>\n",
       "      <th>Rate the facilities Provided</th>\n",
       "      <th>Overall Rate</th>\n",
       "      <th>What do you like the most about the Hostel</th>\n",
       "      <th>Things you dislike about  your hostel</th>\n",
       "      <th>Any suggestion</th>\n",
       "    </tr>\n",
       "  </thead>\n",
       "  <tbody>\n",
       "    <tr>\n",
       "      <th>0</th>\n",
       "      <td>4-29-2019 23:25:18</td>\n",
       "      <td>Bhabha Bhavan</td>\n",
       "      <td>Yes</td>\n",
       "      <td>Good</td>\n",
       "      <td>1</td>\n",
       "      <td>4</td>\n",
       "      <td>5</td>\n",
       "      <td>5</td>\n",
       "      <td>1.0</td>\n",
       "      <td>3.0</td>\n",
       "      <td>Rooms</td>\n",
       "      <td>Dogs</td>\n",
       "      <td>NaN</td>\n",
       "    </tr>\n",
       "    <tr>\n",
       "      <th>1</th>\n",
       "      <td>5-2-2019 21:44:26</td>\n",
       "      <td>Bhabha Bhavan</td>\n",
       "      <td>No</td>\n",
       "      <td>Good</td>\n",
       "      <td>3</td>\n",
       "      <td>4</td>\n",
       "      <td>4</td>\n",
       "      <td>4</td>\n",
       "      <td>3.0</td>\n",
       "      <td>4.0</td>\n",
       "      <td>Sanitary facilities</td>\n",
       "      <td>Mess food</td>\n",
       "      <td>NaN</td>\n",
       "    </tr>\n",
       "    <tr>\n",
       "      <th>2</th>\n",
       "      <td>5-3-2019 0:12:51</td>\n",
       "      <td>Bhabha Bhavan</td>\n",
       "      <td>No</td>\n",
       "      <td>Bad</td>\n",
       "      <td>1</td>\n",
       "      <td>3</td>\n",
       "      <td>2</td>\n",
       "      <td>4</td>\n",
       "      <td>2.0</td>\n",
       "      <td>2.0</td>\n",
       "      <td>Na</td>\n",
       "      <td>Watchman</td>\n",
       "      <td>??</td>\n",
       "    </tr>\n",
       "    <tr>\n",
       "      <th>3</th>\n",
       "      <td>5-3-2019 19:06:14</td>\n",
       "      <td>Bhabha Bhavan</td>\n",
       "      <td>No</td>\n",
       "      <td>Hostel experience was good except for the mess...</td>\n",
       "      <td>2</td>\n",
       "      <td>4</td>\n",
       "      <td>3</td>\n",
       "      <td>4</td>\n",
       "      <td>2.0</td>\n",
       "      <td>3.0</td>\n",
       "      <td>The rooms are quite spacious</td>\n",
       "      <td>So many things from Indian toilets to mess foo...</td>\n",
       "      <td>Please see the quality of the mess food and dr...</td>\n",
       "    </tr>\n",
       "    <tr>\n",
       "      <th>4</th>\n",
       "      <td>5-4-2019 8:51:21</td>\n",
       "      <td>Bhabha Bhavan</td>\n",
       "      <td>Yes</td>\n",
       "      <td>Good</td>\n",
       "      <td>3</td>\n",
       "      <td>5</td>\n",
       "      <td>3</td>\n",
       "      <td>5</td>\n",
       "      <td>5.0</td>\n",
       "      <td>4.0</td>\n",
       "      <td>Infrastructure and ventilation</td>\n",
       "      <td>still nothing</td>\n",
       "      <td>Maintenance of broken furniture (windows and d...</td>\n",
       "    </tr>\n",
       "    <tr>\n",
       "      <th>...</th>\n",
       "      <td>...</td>\n",
       "      <td>...</td>\n",
       "      <td>...</td>\n",
       "      <td>...</td>\n",
       "      <td>...</td>\n",
       "      <td>...</td>\n",
       "      <td>...</td>\n",
       "      <td>...</td>\n",
       "      <td>...</td>\n",
       "      <td>...</td>\n",
       "      <td>...</td>\n",
       "      <td>...</td>\n",
       "      <td>...</td>\n",
       "    </tr>\n",
       "    <tr>\n",
       "      <th>300</th>\n",
       "      <td>5-3-2019 5:17:41</td>\n",
       "      <td>Swami Vivekanand Bhavan</td>\n",
       "      <td>Yes</td>\n",
       "      <td>Good</td>\n",
       "      <td>5</td>\n",
       "      <td>5</td>\n",
       "      <td>3</td>\n",
       "      <td>3</td>\n",
       "      <td>2.0</td>\n",
       "      <td>4.0</td>\n",
       "      <td>Everything</td>\n",
       "      <td>Nothing</td>\n",
       "      <td>Lights remain on during day in corridor. Ask t...</td>\n",
       "    </tr>\n",
       "    <tr>\n",
       "      <th>301</th>\n",
       "      <td>11-27-2018 16:20:36</td>\n",
       "      <td>Swami Vivekanand Bhavan</td>\n",
       "      <td>No</td>\n",
       "      <td>good</td>\n",
       "      <td>3</td>\n",
       "      <td>4</td>\n",
       "      <td>3</td>\n",
       "      <td>4</td>\n",
       "      <td>3.0</td>\n",
       "      <td>NaN</td>\n",
       "      <td>Food</td>\n",
       "      <td>Sanitary facilities</td>\n",
       "      <td>NaN</td>\n",
       "    </tr>\n",
       "    <tr>\n",
       "      <th>302</th>\n",
       "      <td>11-27-2018 16:26:19</td>\n",
       "      <td>Swami Vivekanand Bhavan</td>\n",
       "      <td>No</td>\n",
       "      <td>Great</td>\n",
       "      <td>5</td>\n",
       "      <td>4</td>\n",
       "      <td>3</td>\n",
       "      <td>3</td>\n",
       "      <td>1.0</td>\n",
       "      <td>NaN</td>\n",
       "      <td>Silent Zone</td>\n",
       "      <td>Maass Food   bathroom toilet</td>\n",
       "      <td>NaN</td>\n",
       "    </tr>\n",
       "    <tr>\n",
       "      <th>303</th>\n",
       "      <td>11-27-2018 16:45:31</td>\n",
       "      <td>Swami Vivekanand Bhavan</td>\n",
       "      <td>No</td>\n",
       "      <td>Not well</td>\n",
       "      <td>3</td>\n",
       "      <td>1</td>\n",
       "      <td>1</td>\n",
       "      <td>1</td>\n",
       "      <td>1.0</td>\n",
       "      <td>NaN</td>\n",
       "      <td>LaN connection</td>\n",
       "      <td>WiFi firewalls.</td>\n",
       "      <td>NaN</td>\n",
       "    </tr>\n",
       "    <tr>\n",
       "      <th>304</th>\n",
       "      <td>5-2-2019 23:18:33</td>\n",
       "      <td>Tagore bhavan</td>\n",
       "      <td>No</td>\n",
       "      <td>Very Disappointing</td>\n",
       "      <td>1</td>\n",
       "      <td>1</td>\n",
       "      <td>4</td>\n",
       "      <td>4</td>\n",
       "      <td>1.0</td>\n",
       "      <td>2.0</td>\n",
       "      <td>Mineral water for drinking</td>\n",
       "      <td>So many things....</td>\n",
       "      <td>Needs too much improvement in almost every asp...</td>\n",
       "    </tr>\n",
       "  </tbody>\n",
       "</table>\n",
       "<p>305 rows × 13 columns</p>\n",
       "</div>"
      ],
      "text/plain": [
       "               Timestamp       Choose your Hostel  \\\n",
       "0     4-29-2019 23:25:18            Bhabha Bhavan   \n",
       "1      5-2-2019 21:44:26            Bhabha Bhavan   \n",
       "2       5-3-2019 0:12:51            Bhabha Bhavan   \n",
       "3      5-3-2019 19:06:14            Bhabha Bhavan   \n",
       "4       5-4-2019 8:51:21            Bhabha Bhavan   \n",
       "..                   ...                      ...   \n",
       "300     5-3-2019 5:17:41  Swami Vivekanand Bhavan   \n",
       "301  11-27-2018 16:20:36  Swami Vivekanand Bhavan   \n",
       "302  11-27-2018 16:26:19  Swami Vivekanand Bhavan   \n",
       "303  11-27-2018 16:45:31  Swami Vivekanand Bhavan   \n",
       "304    5-2-2019 23:18:33            Tagore bhavan   \n",
       "\n",
       "    Are you staying in hostel for  first time  \\\n",
       "0                                         Yes   \n",
       "1                                          No   \n",
       "2                                          No   \n",
       "3                                          No   \n",
       "4                                         Yes   \n",
       "..                                        ...   \n",
       "300                                       Yes   \n",
       "301                                        No   \n",
       "302                                        No   \n",
       "303                                        No   \n",
       "304                                        No   \n",
       "\n",
       "                       How was your hostel experience   Rate the mess food  \\\n",
       "0                                                Good                    1   \n",
       "1                                                 Good                   3   \n",
       "2                                                  Bad                   1   \n",
       "3    Hostel experience was good except for the mess...                   2   \n",
       "4                                                 Good                   3   \n",
       "..                                                 ...                 ...   \n",
       "300                                               Good                   5   \n",
       "301                                               good                   3   \n",
       "302                                              Great                   5   \n",
       "303                                           Not well                   3   \n",
       "304                                 Very Disappointing                   1   \n",
       "\n",
       "     Rate the infrastructure   Rate the water supply   Rate the housekeepers   \\\n",
       "0                           4                       5                       5   \n",
       "1                           4                       4                       4   \n",
       "2                           3                       2                       4   \n",
       "3                           4                       3                       4   \n",
       "4                           5                       3                       5   \n",
       "..                        ...                     ...                     ...   \n",
       "300                         5                       3                       3   \n",
       "301                         4                       3                       4   \n",
       "302                         4                       3                       3   \n",
       "303                         1                       1                       1   \n",
       "304                         1                       4                       4   \n",
       "\n",
       "     Rate the facilities Provided   Overall Rate  \\\n",
       "0                              1.0           3.0   \n",
       "1                              3.0           4.0   \n",
       "2                              2.0           2.0   \n",
       "3                              2.0           3.0   \n",
       "4                              5.0           4.0   \n",
       "..                             ...           ...   \n",
       "300                            2.0           4.0   \n",
       "301                            3.0           NaN   \n",
       "302                            1.0           NaN   \n",
       "303                            1.0           NaN   \n",
       "304                            1.0           2.0   \n",
       "\n",
       "    What do you like the most about the Hostel  \\\n",
       "0                                        Rooms   \n",
       "1                          Sanitary facilities   \n",
       "2                                           Na   \n",
       "3                 The rooms are quite spacious   \n",
       "4               Infrastructure and ventilation   \n",
       "..                                         ...   \n",
       "300                                 Everything   \n",
       "301                                       Food   \n",
       "302                                Silent Zone   \n",
       "303                             LaN connection   \n",
       "304                 Mineral water for drinking   \n",
       "\n",
       "                 Things you dislike about  your hostel  \\\n",
       "0                                                Dogs    \n",
       "1                                            Mess food   \n",
       "2                                             Watchman   \n",
       "3    So many things from Indian toilets to mess foo...   \n",
       "4                                       still nothing    \n",
       "..                                                 ...   \n",
       "300                                            Nothing   \n",
       "301                                Sanitary facilities   \n",
       "302                       Maass Food   bathroom toilet   \n",
       "303                                    WiFi firewalls.   \n",
       "304                                 So many things....   \n",
       "\n",
       "                                       Any suggestion   \n",
       "0                                                  NaN  \n",
       "1                                                  NaN  \n",
       "2                                                   ??  \n",
       "3    Please see the quality of the mess food and dr...  \n",
       "4    Maintenance of broken furniture (windows and d...  \n",
       "..                                                 ...  \n",
       "300  Lights remain on during day in corridor. Ask t...  \n",
       "301                                                NaN  \n",
       "302                                                NaN  \n",
       "303                                                NaN  \n",
       "304  Needs too much improvement in almost every asp...  \n",
       "\n",
       "[305 rows x 13 columns]"
      ]
     },
     "execution_count": 8,
     "metadata": {},
     "output_type": "execute_result"
    }
   ],
   "source": [
    "df"
   ]
  },
  {
   "cell_type": "code",
   "execution_count": 9,
   "metadata": {},
   "outputs": [
    {
     "name": "stdout",
     "output_type": "stream",
     "text": [
      "<class 'pandas.core.frame.DataFrame'>\n",
      "RangeIndex: 305 entries, 0 to 304\n",
      "Data columns (total 13 columns):\n",
      " #   Column                                      Non-Null Count  Dtype  \n",
      "---  ------                                      --------------  -----  \n",
      " 0   Timestamp                                   305 non-null    object \n",
      " 1   Choose your Hostel                          305 non-null    object \n",
      " 2   Are you staying in hostel for  first time   305 non-null    object \n",
      " 3   How was your hostel experience              226 non-null    object \n",
      " 4   Rate the mess food                          305 non-null    int64  \n",
      " 5   Rate the infrastructure                     305 non-null    int64  \n",
      " 6   Rate the water supply                       305 non-null    int64  \n",
      " 7   Rate the housekeepers                       305 non-null    int64  \n",
      " 8   Rate the facilities Provided                169 non-null    float64\n",
      " 9   Overall Rate                                125 non-null    float64\n",
      " 10  What do you like the most about the Hostel  302 non-null    object \n",
      " 11  Things you dislike about  your hostel       305 non-null    object \n",
      " 12  Any suggestion                              176 non-null    object \n",
      "dtypes: float64(2), int64(4), object(7)\n",
      "memory usage: 31.1+ KB\n"
     ]
    }
   ],
   "source": [
    "#Getting the information about the dataframe\n",
    "df.info()"
   ]
  },
  {
   "cell_type": "code",
   "execution_count": 10,
   "metadata": {},
   "outputs": [
    {
     "data": {
      "text/plain": [
       "(305, 13)"
      ]
     },
     "execution_count": 10,
     "metadata": {},
     "output_type": "execute_result"
    }
   ],
   "source": [
    "#Finding the shape of the dataframe\n",
    "df.shape"
   ]
  },
  {
   "cell_type": "code",
   "execution_count": 11,
   "metadata": {},
   "outputs": [
    {
     "data": {
      "text/plain": [
       "Index(['Timestamp', 'Choose your Hostel',\n",
       "       'Are you staying in hostel for  first time',\n",
       "       'How was your hostel experience ', 'Rate the mess food',\n",
       "       'Rate the infrastructure ', 'Rate the water supply ',\n",
       "       'Rate the housekeepers ', 'Rate the facilities Provided ',\n",
       "       'Overall Rate', 'What do you like the most about the Hostel',\n",
       "       'Things you dislike about  your hostel', 'Any suggestion '],\n",
       "      dtype='object')"
      ]
     },
     "execution_count": 11,
     "metadata": {},
     "output_type": "execute_result"
    }
   ],
   "source": [
    "#Finding the columns of dataframe\n",
    "df.columns"
   ]
  },
  {
   "cell_type": "code",
   "execution_count": 12,
   "metadata": {},
   "outputs": [
    {
     "data": {
      "text/html": [
       "<div>\n",
       "<style scoped>\n",
       "    .dataframe tbody tr th:only-of-type {\n",
       "        vertical-align: middle;\n",
       "    }\n",
       "\n",
       "    .dataframe tbody tr th {\n",
       "        vertical-align: top;\n",
       "    }\n",
       "\n",
       "    .dataframe thead th {\n",
       "        text-align: right;\n",
       "    }\n",
       "</style>\n",
       "<table border=\"1\" class=\"dataframe\">\n",
       "  <thead>\n",
       "    <tr style=\"text-align: right;\">\n",
       "      <th></th>\n",
       "      <th>Rate the mess food</th>\n",
       "      <th>Rate the infrastructure</th>\n",
       "      <th>Rate the water supply</th>\n",
       "      <th>Rate the housekeepers</th>\n",
       "      <th>Rate the facilities Provided</th>\n",
       "      <th>Overall Rate</th>\n",
       "    </tr>\n",
       "  </thead>\n",
       "  <tbody>\n",
       "    <tr>\n",
       "      <th>count</th>\n",
       "      <td>305.000000</td>\n",
       "      <td>305.000000</td>\n",
       "      <td>305.000000</td>\n",
       "      <td>305.000000</td>\n",
       "      <td>169.000000</td>\n",
       "      <td>125.000000</td>\n",
       "    </tr>\n",
       "    <tr>\n",
       "      <th>mean</th>\n",
       "      <td>2.550820</td>\n",
       "      <td>3.308197</td>\n",
       "      <td>2.422951</td>\n",
       "      <td>3.367213</td>\n",
       "      <td>2.284024</td>\n",
       "      <td>2.992000</td>\n",
       "    </tr>\n",
       "    <tr>\n",
       "      <th>std</th>\n",
       "      <td>1.108375</td>\n",
       "      <td>1.089769</td>\n",
       "      <td>1.115736</td>\n",
       "      <td>1.184983</td>\n",
       "      <td>1.215884</td>\n",
       "      <td>0.928891</td>\n",
       "    </tr>\n",
       "    <tr>\n",
       "      <th>min</th>\n",
       "      <td>1.000000</td>\n",
       "      <td>1.000000</td>\n",
       "      <td>1.000000</td>\n",
       "      <td>1.000000</td>\n",
       "      <td>1.000000</td>\n",
       "      <td>1.000000</td>\n",
       "    </tr>\n",
       "    <tr>\n",
       "      <th>25%</th>\n",
       "      <td>2.000000</td>\n",
       "      <td>3.000000</td>\n",
       "      <td>2.000000</td>\n",
       "      <td>3.000000</td>\n",
       "      <td>1.000000</td>\n",
       "      <td>3.000000</td>\n",
       "    </tr>\n",
       "    <tr>\n",
       "      <th>50%</th>\n",
       "      <td>3.000000</td>\n",
       "      <td>3.000000</td>\n",
       "      <td>2.000000</td>\n",
       "      <td>3.000000</td>\n",
       "      <td>2.000000</td>\n",
       "      <td>3.000000</td>\n",
       "    </tr>\n",
       "    <tr>\n",
       "      <th>75%</th>\n",
       "      <td>3.000000</td>\n",
       "      <td>4.000000</td>\n",
       "      <td>3.000000</td>\n",
       "      <td>4.000000</td>\n",
       "      <td>3.000000</td>\n",
       "      <td>4.000000</td>\n",
       "    </tr>\n",
       "    <tr>\n",
       "      <th>max</th>\n",
       "      <td>5.000000</td>\n",
       "      <td>5.000000</td>\n",
       "      <td>5.000000</td>\n",
       "      <td>5.000000</td>\n",
       "      <td>5.000000</td>\n",
       "      <td>5.000000</td>\n",
       "    </tr>\n",
       "  </tbody>\n",
       "</table>\n",
       "</div>"
      ],
      "text/plain": [
       "       Rate the mess food  Rate the infrastructure   Rate the water supply   \\\n",
       "count          305.000000                305.000000              305.000000   \n",
       "mean             2.550820                  3.308197                2.422951   \n",
       "std              1.108375                  1.089769                1.115736   \n",
       "min              1.000000                  1.000000                1.000000   \n",
       "25%              2.000000                  3.000000                2.000000   \n",
       "50%              3.000000                  3.000000                2.000000   \n",
       "75%              3.000000                  4.000000                3.000000   \n",
       "max              5.000000                  5.000000                5.000000   \n",
       "\n",
       "       Rate the housekeepers   Rate the facilities Provided   Overall Rate  \n",
       "count              305.000000                     169.000000    125.000000  \n",
       "mean                 3.367213                       2.284024      2.992000  \n",
       "std                  1.184983                       1.215884      0.928891  \n",
       "min                  1.000000                       1.000000      1.000000  \n",
       "25%                  3.000000                       1.000000      3.000000  \n",
       "50%                  3.000000                       2.000000      3.000000  \n",
       "75%                  4.000000                       3.000000      4.000000  \n",
       "max                  5.000000                       5.000000      5.000000  "
      ]
     },
     "execution_count": 12,
     "metadata": {},
     "output_type": "execute_result"
    }
   ],
   "source": [
    "df.describe()"
   ]
  },
  {
   "cell_type": "code",
   "execution_count": 30,
   "metadata": {},
   "outputs": [],
   "source": [
    "df.rename(\n",
    "    columns=({ 'Choose your Hostel': 'Hostel',\n",
    "              'Are you staying in hostel for  first time': 'New_boy',\n",
    "              'Rate the mess food': 'food',\n",
    "             'Rate the infrastructure ': 'infrastructure',\n",
    "              'Rate the water supply ': 'Water_Supply',\n",
    "              'Rate the housekeepers ': 'housekeepers',\n",
    "              'Rate the facilities Provided ': 'facilities',\n",
    "              'Rate the mess food': 'food',\n",
    "              'Rate the mess food': 'food',\n",
    "              'Overall Rate':'Total_Rate',\n",
    "              'What do you like the most about the Hostel':'Like',\n",
    "              'Things you dislike about  your hostel':'Dislike'\n",
    "              \n",
    "             }), \n",
    "    inplace=True,\n",
    ")"
   ]
  },
  {
   "cell_type": "markdown",
   "metadata": {},
   "source": [
    "## Section-2: Exploratory Analysis and Visualization"
   ]
  },
  {
   "cell_type": "code",
   "execution_count": 25,
   "metadata": {},
   "outputs": [],
   "source": [
    "import jovian"
   ]
  },
  {
   "cell_type": "code",
   "execution_count": 26,
   "metadata": {},
   "outputs": [
    {
     "data": {
      "application/javascript": [
       "window.require && require([\"base/js/namespace\"],function(Jupyter){Jupyter.notebook.save_checkpoint()})"
      ],
      "text/plain": [
       "<IPython.core.display.Javascript object>"
      ]
     },
     "metadata": {},
     "output_type": "display_data"
    },
    {
     "name": "stdout",
     "output_type": "stream",
     "text": [
      "[jovian] Attempting to save notebook..\u001b[0m\n",
      "[jovian] Updating notebook \"i16ph021/svnithostelfeedback\" on https://jovian.ai\u001b[0m\n",
      "[jovian] Uploading notebook..\u001b[0m\n",
      "[jovian] Uploading additional files...\u001b[0m\n",
      "[jovian] Committed successfully! https://jovian.ai/i16ph021/svnithostelfeedback\u001b[0m\n"
     ]
    },
    {
     "data": {
      "text/plain": [
       "'https://jovian.ai/i16ph021/svnithostelfeedback'"
      ]
     },
     "execution_count": 26,
     "metadata": {},
     "output_type": "execute_result"
    }
   ],
   "source": [
    "jovian.commit()"
   ]
  },
  {
   "cell_type": "markdown",
   "metadata": {},
   "source": [
    "## Exploratory Analysis and Visualization\n",
    "\n",
    "**TODO** - write some explanation here.\n",
    "\n"
   ]
  },
  {
   "cell_type": "markdown",
   "metadata": {},
   "source": [
    "Let's begin by importing`matplotlib.pyplot` and `seaborn`."
   ]
  },
  {
   "cell_type": "code",
   "execution_count": 17,
   "metadata": {},
   "outputs": [],
   "source": [
    "import seaborn as sns\n",
    "import matplotlib\n",
    "import matplotlib.pyplot as plt\n",
    "%matplotlib inline\n",
    "\n",
    "sns.set_style('darkgrid')\n",
    "matplotlib.rcParams['font.size'] = 14\n",
    "matplotlib.rcParams['figure.figsize'] = (9, 5)\n",
    "matplotlib.rcParams['figure.facecolor'] = '#00000000'"
   ]
  },
  {
   "cell_type": "markdown",
   "metadata": {},
   "source": [
    "**TODO** - Explore one or more columns by plotting a graph below, and add some explanation about it"
   ]
  },
  {
   "cell_type": "code",
   "execution_count": 27,
   "metadata": {},
   "outputs": [
    {
     "data": {
      "text/html": [
       "<div>\n",
       "<style scoped>\n",
       "    .dataframe tbody tr th:only-of-type {\n",
       "        vertical-align: middle;\n",
       "    }\n",
       "\n",
       "    .dataframe tbody tr th {\n",
       "        vertical-align: top;\n",
       "    }\n",
       "\n",
       "    .dataframe thead th {\n",
       "        text-align: right;\n",
       "    }\n",
       "</style>\n",
       "<table border=\"1\" class=\"dataframe\">\n",
       "  <thead>\n",
       "    <tr style=\"text-align: right;\">\n",
       "      <th></th>\n",
       "      <th>Choose your Hostel</th>\n",
       "      <th>Are you staying in hostel for  first time</th>\n",
       "      <th>How was your hostel experience</th>\n",
       "      <th>Rate the mess food</th>\n",
       "      <th>Rate the infrastructure</th>\n",
       "      <th>Rate the water supply</th>\n",
       "      <th>Rate the housekeepers</th>\n",
       "      <th>Rate the facilities Provided</th>\n",
       "      <th>Overall Rate</th>\n",
       "      <th>What do you like the most about the Hostel</th>\n",
       "      <th>Things you dislike about  your hostel</th>\n",
       "      <th>Any suggestion</th>\n",
       "    </tr>\n",
       "  </thead>\n",
       "  <tbody>\n",
       "    <tr>\n",
       "      <th>210</th>\n",
       "      <td>Mother Teresa Bhavan</td>\n",
       "      <td>Yes</td>\n",
       "      <td>Good</td>\n",
       "      <td>3</td>\n",
       "      <td>4</td>\n",
       "      <td>4</td>\n",
       "      <td>3</td>\n",
       "      <td>1.0</td>\n",
       "      <td>4.0</td>\n",
       "      <td>Environment</td>\n",
       "      <td>Washrooms</td>\n",
       "      <td>Gym in hostel</td>\n",
       "    </tr>\n",
       "    <tr>\n",
       "      <th>70</th>\n",
       "      <td>Gajjar Bhavan</td>\n",
       "      <td>No</td>\n",
       "      <td>Absolutely amazing experience</td>\n",
       "      <td>1</td>\n",
       "      <td>1</td>\n",
       "      <td>1</td>\n",
       "      <td>1</td>\n",
       "      <td>1.0</td>\n",
       "      <td>NaN</td>\n",
       "      <td>peace</td>\n",
       "      <td>mess food</td>\n",
       "      <td>if mess food can be improved, then please see ...</td>\n",
       "    </tr>\n",
       "    <tr>\n",
       "      <th>147</th>\n",
       "      <td>Gajjar Bhavan</td>\n",
       "      <td>No</td>\n",
       "      <td>NaN</td>\n",
       "      <td>1</td>\n",
       "      <td>4</td>\n",
       "      <td>1</td>\n",
       "      <td>3</td>\n",
       "      <td>NaN</td>\n",
       "      <td>NaN</td>\n",
       "      <td>Sports facilities and gym</td>\n",
       "      <td>Food and water supply</td>\n",
       "      <td>Speakers and wifi routers are not so good and ...</td>\n",
       "    </tr>\n",
       "    <tr>\n",
       "      <th>168</th>\n",
       "      <td>Gajjar Bhavan</td>\n",
       "      <td>No</td>\n",
       "      <td>NaN</td>\n",
       "      <td>3</td>\n",
       "      <td>3</td>\n",
       "      <td>2</td>\n",
       "      <td>3</td>\n",
       "      <td>NaN</td>\n",
       "      <td>NaN</td>\n",
       "      <td>Extra ciricullum activities...</td>\n",
       "      <td>Mess service</td>\n",
       "      <td>Wifi speed should be increase..and solve water...</td>\n",
       "    </tr>\n",
       "    <tr>\n",
       "      <th>183</th>\n",
       "      <td>Gajjar Bhavan</td>\n",
       "      <td>No</td>\n",
       "      <td>NaN</td>\n",
       "      <td>3</td>\n",
       "      <td>4</td>\n",
       "      <td>3</td>\n",
       "      <td>5</td>\n",
       "      <td>NaN</td>\n",
       "      <td>NaN</td>\n",
       "      <td>all activity like festival celebration etc..</td>\n",
       "      <td>Mess food. Bcz it's too much oily and sometime...</td>\n",
       "      <td>Improve mess and water supply.</td>\n",
       "    </tr>\n",
       "    <tr>\n",
       "      <th>232</th>\n",
       "      <td>Mother Teresa Bhavan</td>\n",
       "      <td>No</td>\n",
       "      <td>Good</td>\n",
       "      <td>2</td>\n",
       "      <td>3</td>\n",
       "      <td>3</td>\n",
       "      <td>2</td>\n",
       "      <td>2.0</td>\n",
       "      <td>3.0</td>\n",
       "      <td>Infrastructure</td>\n",
       "      <td>Food</td>\n",
       "      <td>NaN</td>\n",
       "    </tr>\n",
       "    <tr>\n",
       "      <th>100</th>\n",
       "      <td>Gajjar Bhavan</td>\n",
       "      <td>Yes</td>\n",
       "      <td>Really good with friends not facilities and food</td>\n",
       "      <td>1</td>\n",
       "      <td>2</td>\n",
       "      <td>2</td>\n",
       "      <td>2</td>\n",
       "      <td>NaN</td>\n",
       "      <td>NaN</td>\n",
       "      <td>Nothing</td>\n",
       "      <td>Food and infrastructure ..</td>\n",
       "      <td>NaN</td>\n",
       "    </tr>\n",
       "    <tr>\n",
       "      <th>140</th>\n",
       "      <td>Gajjar Bhavan</td>\n",
       "      <td>Yes</td>\n",
       "      <td>NaN</td>\n",
       "      <td>1</td>\n",
       "      <td>3</td>\n",
       "      <td>2</td>\n",
       "      <td>5</td>\n",
       "      <td>NaN</td>\n",
       "      <td>NaN</td>\n",
       "      <td>Infrastructure</td>\n",
       "      <td>Promised facilities were either never fulfille...</td>\n",
       "      <td>NaN</td>\n",
       "    </tr>\n",
       "    <tr>\n",
       "      <th>44</th>\n",
       "      <td>Gajjar Bhavan</td>\n",
       "      <td>No</td>\n",
       "      <td>Good</td>\n",
       "      <td>1</td>\n",
       "      <td>2</td>\n",
       "      <td>3</td>\n",
       "      <td>4</td>\n",
       "      <td>2.0</td>\n",
       "      <td>2.0</td>\n",
       "      <td>Cool</td>\n",
       "      <td>Old infrastructure</td>\n",
       "      <td>NaN</td>\n",
       "    </tr>\n",
       "    <tr>\n",
       "      <th>159</th>\n",
       "      <td>Gajjar Bhavan</td>\n",
       "      <td>Yes</td>\n",
       "      <td>NaN</td>\n",
       "      <td>4</td>\n",
       "      <td>5</td>\n",
       "      <td>3</td>\n",
       "      <td>3</td>\n",
       "      <td>NaN</td>\n",
       "      <td>NaN</td>\n",
       "      <td>Facility in the room</td>\n",
       "      <td>Water supply is not proper</td>\n",
       "      <td>NaN</td>\n",
       "    </tr>\n",
       "  </tbody>\n",
       "</table>\n",
       "</div>"
      ],
      "text/plain": [
       "       Choose your Hostel Are you staying in hostel for  first time  \\\n",
       "210  Mother Teresa Bhavan                                       Yes   \n",
       "70          Gajjar Bhavan                                        No   \n",
       "147         Gajjar Bhavan                                        No   \n",
       "168         Gajjar Bhavan                                        No   \n",
       "183         Gajjar Bhavan                                        No   \n",
       "232  Mother Teresa Bhavan                                        No   \n",
       "100         Gajjar Bhavan                                       Yes   \n",
       "140         Gajjar Bhavan                                       Yes   \n",
       "44          Gajjar Bhavan                                        No   \n",
       "159         Gajjar Bhavan                                       Yes   \n",
       "\n",
       "                      How was your hostel experience   Rate the mess food  \\\n",
       "210                                              Good                   3   \n",
       "70                     Absolutely amazing experience                    1   \n",
       "147                                               NaN                   1   \n",
       "168                                               NaN                   3   \n",
       "183                                               NaN                   3   \n",
       "232                                              Good                   2   \n",
       "100  Really good with friends not facilities and food                   1   \n",
       "140                                               NaN                   1   \n",
       "44                                               Good                   1   \n",
       "159                                               NaN                   4   \n",
       "\n",
       "     Rate the infrastructure   Rate the water supply   Rate the housekeepers   \\\n",
       "210                         4                       4                       3   \n",
       "70                          1                       1                       1   \n",
       "147                         4                       1                       3   \n",
       "168                         3                       2                       3   \n",
       "183                         4                       3                       5   \n",
       "232                         3                       3                       2   \n",
       "100                         2                       2                       2   \n",
       "140                         3                       2                       5   \n",
       "44                          2                       3                       4   \n",
       "159                         5                       3                       3   \n",
       "\n",
       "     Rate the facilities Provided   Overall Rate  \\\n",
       "210                            1.0           4.0   \n",
       "70                             1.0           NaN   \n",
       "147                            NaN           NaN   \n",
       "168                            NaN           NaN   \n",
       "183                            NaN           NaN   \n",
       "232                            2.0           3.0   \n",
       "100                            NaN           NaN   \n",
       "140                            NaN           NaN   \n",
       "44                             2.0           2.0   \n",
       "159                            NaN           NaN   \n",
       "\n",
       "       What do you like the most about the Hostel  \\\n",
       "210                                   Environment   \n",
       "70                                          peace   \n",
       "147                     Sports facilities and gym   \n",
       "168                Extra ciricullum activities...   \n",
       "183  all activity like festival celebration etc..   \n",
       "232                                Infrastructure   \n",
       "100                                       Nothing   \n",
       "140                                Infrastructure   \n",
       "44                                           Cool   \n",
       "159                          Facility in the room   \n",
       "\n",
       "                 Things you dislike about  your hostel  \\\n",
       "210                                          Washrooms   \n",
       "70                                           mess food   \n",
       "147                              Food and water supply   \n",
       "168                                       Mess service   \n",
       "183  Mess food. Bcz it's too much oily and sometime...   \n",
       "232                                               Food   \n",
       "100                         Food and infrastructure ..   \n",
       "140  Promised facilities were either never fulfille...   \n",
       "44                                 Old infrastructure    \n",
       "159                         Water supply is not proper   \n",
       "\n",
       "                                       Any suggestion   \n",
       "210                                      Gym in hostel  \n",
       "70   if mess food can be improved, then please see ...  \n",
       "147  Speakers and wifi routers are not so good and ...  \n",
       "168  Wifi speed should be increase..and solve water...  \n",
       "183                     Improve mess and water supply.  \n",
       "232                                                NaN  \n",
       "100                                                NaN  \n",
       "140                                                NaN  \n",
       "44                                                 NaN  \n",
       "159                                                NaN  "
      ]
     },
     "execution_count": 27,
     "metadata": {},
     "output_type": "execute_result"
    }
   ],
   "source": [
    "df.sample(10)"
   ]
  },
  {
   "cell_type": "code",
   "execution_count": 29,
   "metadata": {},
   "outputs": [
    {
     "ename": "AttributeError",
     "evalue": "'DataFrame' object has no attribute 'Rate_the_mess_food'",
     "output_type": "error",
     "traceback": [
      "\u001b[0;31m---------------------------------------------------------------------------\u001b[0m",
      "\u001b[0;31mAttributeError\u001b[0m                            Traceback (most recent call last)",
      "\u001b[0;32m<ipython-input-29-c395c2c46e01>\u001b[0m in \u001b[0;36m<module>\u001b[0;34m\u001b[0m\n\u001b[0;32m----> 1\u001b[0;31m \u001b[0mwifi_lover\u001b[0m\u001b[0;34m=\u001b[0m\u001b[0mdf\u001b[0m\u001b[0;34m.\u001b[0m\u001b[0mRate_the_mess_food\u001b[0m\u001b[0;34m.\u001b[0m\u001b[0mvalue_counts\u001b[0m\u001b[0;34m(\u001b[0m\u001b[0;34m)\u001b[0m\u001b[0;34m\u001b[0m\u001b[0;34m\u001b[0m\u001b[0m\n\u001b[0m\u001b[1;32m      2\u001b[0m \u001b[0mwifi_lover\u001b[0m\u001b[0;34m\u001b[0m\u001b[0;34m\u001b[0m\u001b[0m\n",
      "\u001b[0;32m/opt/conda/lib/python3.8/site-packages/pandas/core/generic.py\u001b[0m in \u001b[0;36m__getattr__\u001b[0;34m(self, name)\u001b[0m\n\u001b[1;32m   5137\u001b[0m             \u001b[0;32mif\u001b[0m \u001b[0mself\u001b[0m\u001b[0;34m.\u001b[0m\u001b[0m_info_axis\u001b[0m\u001b[0;34m.\u001b[0m\u001b[0m_can_hold_identifiers_and_holds_name\u001b[0m\u001b[0;34m(\u001b[0m\u001b[0mname\u001b[0m\u001b[0;34m)\u001b[0m\u001b[0;34m:\u001b[0m\u001b[0;34m\u001b[0m\u001b[0;34m\u001b[0m\u001b[0m\n\u001b[1;32m   5138\u001b[0m                 \u001b[0;32mreturn\u001b[0m \u001b[0mself\u001b[0m\u001b[0;34m[\u001b[0m\u001b[0mname\u001b[0m\u001b[0;34m]\u001b[0m\u001b[0;34m\u001b[0m\u001b[0;34m\u001b[0m\u001b[0m\n\u001b[0;32m-> 5139\u001b[0;31m             \u001b[0;32mreturn\u001b[0m \u001b[0mobject\u001b[0m\u001b[0;34m.\u001b[0m\u001b[0m__getattribute__\u001b[0m\u001b[0;34m(\u001b[0m\u001b[0mself\u001b[0m\u001b[0;34m,\u001b[0m \u001b[0mname\u001b[0m\u001b[0;34m)\u001b[0m\u001b[0;34m\u001b[0m\u001b[0;34m\u001b[0m\u001b[0m\n\u001b[0m\u001b[1;32m   5140\u001b[0m \u001b[0;34m\u001b[0m\u001b[0m\n\u001b[1;32m   5141\u001b[0m     \u001b[0;32mdef\u001b[0m \u001b[0m__setattr__\u001b[0m\u001b[0;34m(\u001b[0m\u001b[0mself\u001b[0m\u001b[0;34m,\u001b[0m \u001b[0mname\u001b[0m\u001b[0;34m:\u001b[0m \u001b[0mstr\u001b[0m\u001b[0;34m,\u001b[0m \u001b[0mvalue\u001b[0m\u001b[0;34m)\u001b[0m \u001b[0;34m->\u001b[0m \u001b[0;32mNone\u001b[0m\u001b[0;34m:\u001b[0m\u001b[0;34m\u001b[0m\u001b[0;34m\u001b[0m\u001b[0m\n",
      "\u001b[0;31mAttributeError\u001b[0m: 'DataFrame' object has no attribute 'Rate_the_mess_food'"
     ]
    }
   ],
   "source": [
    "wifi_lover=df.value_counts()\n",
    "wifi_lover"
   ]
  },
  {
   "cell_type": "markdown",
   "metadata": {},
   "source": [
    "**TODO** - Explore one or more columns by plotting a graph below, and add some explanation about it"
   ]
  },
  {
   "cell_type": "code",
   "execution_count": null,
   "metadata": {},
   "outputs": [],
   "source": []
  },
  {
   "cell_type": "code",
   "execution_count": null,
   "metadata": {},
   "outputs": [],
   "source": []
  },
  {
   "cell_type": "markdown",
   "metadata": {},
   "source": [
    "**TODO** - Explore one or more columns by plotting a graph below, and add some explanation about it"
   ]
  },
  {
   "cell_type": "code",
   "execution_count": null,
   "metadata": {},
   "outputs": [],
   "source": []
  },
  {
   "cell_type": "code",
   "execution_count": null,
   "metadata": {},
   "outputs": [],
   "source": []
  },
  {
   "cell_type": "markdown",
   "metadata": {},
   "source": [
    "**TODO** - Explore one or more columns by plotting a graph below, and add some explanation about it"
   ]
  },
  {
   "cell_type": "code",
   "execution_count": null,
   "metadata": {},
   "outputs": [],
   "source": []
  },
  {
   "cell_type": "code",
   "execution_count": null,
   "metadata": {},
   "outputs": [],
   "source": []
  },
  {
   "cell_type": "markdown",
   "metadata": {},
   "source": [
    "**TODO** - Explore one or more columns by plotting a graph below, and add some explanation about it"
   ]
  },
  {
   "cell_type": "code",
   "execution_count": null,
   "metadata": {},
   "outputs": [],
   "source": []
  },
  {
   "cell_type": "code",
   "execution_count": null,
   "metadata": {},
   "outputs": [],
   "source": []
  },
  {
   "cell_type": "markdown",
   "metadata": {},
   "source": [
    "Let us save and upload our work to Jovian before continuing"
   ]
  },
  {
   "cell_type": "code",
   "execution_count": 18,
   "metadata": {},
   "outputs": [],
   "source": [
    "import jovian"
   ]
  },
  {
   "cell_type": "code",
   "execution_count": 19,
   "metadata": {},
   "outputs": [
    {
     "data": {
      "application/javascript": [
       "window.require && require([\"base/js/namespace\"],function(Jupyter){Jupyter.notebook.save_checkpoint()})"
      ],
      "text/plain": [
       "<IPython.core.display.Javascript object>"
      ]
     },
     "metadata": {},
     "output_type": "display_data"
    },
    {
     "name": "stdout",
     "output_type": "stream",
     "text": [
      "[jovian] Attempting to save notebook..\u001b[0m\n",
      "[jovian] Updating notebook \"i16ph021/svnithostelfeedback\" on https://jovian.ai\u001b[0m\n",
      "[jovian] Uploading notebook..\u001b[0m\n",
      "[jovian] Uploading additional files...\u001b[0m\n",
      "[jovian] Committed successfully! https://jovian.ai/i16ph021/svnithostelfeedback\u001b[0m\n"
     ]
    },
    {
     "data": {
      "text/plain": [
       "'https://jovian.ai/i16ph021/svnithostelfeedback'"
      ]
     },
     "execution_count": 19,
     "metadata": {},
     "output_type": "execute_result"
    }
   ],
   "source": [
    "jovian.commit()"
   ]
  },
  {
   "cell_type": "markdown",
   "metadata": {},
   "source": [
    "## Asking and Answering Questions\n",
    "\n",
    "TODO - write some explanation here.\n",
    "\n"
   ]
  },
  {
   "cell_type": "markdown",
   "metadata": {},
   "source": [
    "> Instructions (delete this cell)\n",
    ">\n",
    "> - Ask at least 5 interesting questions about your dataset\n",
    "> - Answer the questions either by computing the results using Numpy/Pandas or by plotting graphs using Matplotlib/Seaborn\n",
    "> - Create new columns, merge multiple dataset and perform grouping/aggregation wherever necessary\n",
    "> - Wherever you're using a library function from Pandas/Numpy/Matplotlib etc. explain briefly what it does\n",
    "\n"
   ]
  },
  {
   "cell_type": "markdown",
   "metadata": {},
   "source": [
    "#### Q1: TODO - ask a question here and answer it below"
   ]
  },
  {
   "cell_type": "code",
   "execution_count": null,
   "metadata": {},
   "outputs": [],
   "source": []
  },
  {
   "cell_type": "code",
   "execution_count": null,
   "metadata": {},
   "outputs": [],
   "source": []
  },
  {
   "cell_type": "code",
   "execution_count": null,
   "metadata": {},
   "outputs": [],
   "source": []
  },
  {
   "cell_type": "markdown",
   "metadata": {},
   "source": [
    "#### Q2: TODO - ask a question here and answer it below"
   ]
  },
  {
   "cell_type": "code",
   "execution_count": null,
   "metadata": {},
   "outputs": [],
   "source": []
  },
  {
   "cell_type": "code",
   "execution_count": null,
   "metadata": {},
   "outputs": [],
   "source": []
  },
  {
   "cell_type": "code",
   "execution_count": null,
   "metadata": {},
   "outputs": [],
   "source": []
  },
  {
   "cell_type": "markdown",
   "metadata": {},
   "source": [
    "#### Q3: TODO - ask a question here and answer it below"
   ]
  },
  {
   "cell_type": "code",
   "execution_count": null,
   "metadata": {},
   "outputs": [],
   "source": []
  },
  {
   "cell_type": "code",
   "execution_count": null,
   "metadata": {},
   "outputs": [],
   "source": []
  },
  {
   "cell_type": "code",
   "execution_count": null,
   "metadata": {},
   "outputs": [],
   "source": []
  },
  {
   "cell_type": "markdown",
   "metadata": {},
   "source": [
    "#### Q4: TODO - ask a question here and answer it below"
   ]
  },
  {
   "cell_type": "code",
   "execution_count": null,
   "metadata": {},
   "outputs": [],
   "source": []
  },
  {
   "cell_type": "code",
   "execution_count": null,
   "metadata": {},
   "outputs": [],
   "source": []
  },
  {
   "cell_type": "code",
   "execution_count": null,
   "metadata": {},
   "outputs": [],
   "source": []
  },
  {
   "cell_type": "markdown",
   "metadata": {},
   "source": [
    "#### Q5: TODO - ask a question here and answer it below"
   ]
  },
  {
   "cell_type": "code",
   "execution_count": null,
   "metadata": {},
   "outputs": [],
   "source": []
  },
  {
   "cell_type": "code",
   "execution_count": null,
   "metadata": {},
   "outputs": [],
   "source": []
  },
  {
   "cell_type": "code",
   "execution_count": null,
   "metadata": {},
   "outputs": [],
   "source": []
  },
  {
   "cell_type": "markdown",
   "metadata": {},
   "source": [
    "Let us save and upload our work to Jovian before continuing."
   ]
  },
  {
   "cell_type": "code",
   "execution_count": 20,
   "metadata": {},
   "outputs": [],
   "source": [
    "import jovian"
   ]
  },
  {
   "cell_type": "code",
   "execution_count": null,
   "metadata": {},
   "outputs": [
    {
     "data": {
      "application/javascript": [
       "window.require && require([\"base/js/namespace\"],function(Jupyter){Jupyter.notebook.save_checkpoint()})"
      ],
      "text/plain": [
       "<IPython.core.display.Javascript object>"
      ]
     },
     "metadata": {},
     "output_type": "display_data"
    },
    {
     "name": "stdout",
     "output_type": "stream",
     "text": [
      "[jovian] Attempting to save notebook..\u001b[0m\n"
     ]
    }
   ],
   "source": [
    "jovian.commit()"
   ]
  },
  {
   "cell_type": "markdown",
   "metadata": {},
   "source": [
    "## Inferences and Conclusion\n",
    "\n",
    "**TODO** - Write some explanation here: a summary of all the inferences drawn from the analysis, and any conclusions you may have drawn by answering various questions."
   ]
  },
  {
   "cell_type": "code",
   "execution_count": null,
   "metadata": {},
   "outputs": [],
   "source": [
    "import jovian"
   ]
  },
  {
   "cell_type": "code",
   "execution_count": 31,
   "metadata": {},
   "outputs": [
    {
     "data": {
      "application/javascript": [
       "window.require && require([\"base/js/namespace\"],function(Jupyter){Jupyter.notebook.save_checkpoint()})"
      ],
      "text/plain": [
       "<IPython.core.display.Javascript object>"
      ]
     },
     "metadata": {},
     "output_type": "display_data"
    },
    {
     "name": "stdout",
     "output_type": "stream",
     "text": [
      "[jovian] Attempting to save notebook..\u001b[0m\n",
      "[jovian] Updating notebook \"aakashns/zerotopandas-course-project-starter\" on https://jovian.ml/\u001b[0m\n",
      "[jovian] Uploading notebook..\u001b[0m\n",
      "[jovian] Capturing environment..\u001b[0m\n",
      "[jovian] Committed successfully! https://jovian.ml/aakashns/zerotopandas-course-project-starter\u001b[0m\n"
     ]
    },
    {
     "data": {
      "text/plain": [
       "'https://jovian.ml/aakashns/zerotopandas-course-project-starter'"
      ]
     },
     "execution_count": 31,
     "metadata": {},
     "output_type": "execute_result"
    }
   ],
   "source": [
    "jovian.commit()"
   ]
  },
  {
   "cell_type": "markdown",
   "metadata": {},
   "source": [
    "## References and Future Work\n",
    "\n",
    "**TODO** - Write some explanation here: ideas for future projects using this dataset, and links to resources you found useful."
   ]
  },
  {
   "cell_type": "markdown",
   "metadata": {},
   "source": [
    "> Submission Instructions (delete this cell)\n",
    "> \n",
    "> - Upload your notebook to your Jovian.ml profile using `jovian.commit`.\n",
    "> - **Make a submission here**: https://jovian.ml/learn/data-analysis-with-python-zero-to-pandas/assignment/course-project\n",
    "> - Share your work on the forum: https://jovian.ml/forum/t/course-project-on-exploratory-data-analysis-discuss-and-share-your-work/11684\n",
    "> - Share your work on social media (Twitter, LinkedIn, Telegram etc.) and tag [@JovianML](https://twitter.com/jovianml)\n",
    ">\n",
    "> (Optional) Write a blog post\n",
    "> \n",
    "> - A blog post is a great way to present and showcase your work.  \n",
    "> - Sign up on [Medium.com](https://medium.com) to write a blog post for your project.\n",
    "> - Copy over the explanations from your Jupyter notebook into your blog post, and [embed code cells & outputs](https://medium.com/jovianml/share-and-embed-jupyter-notebooks-online-with-jovian-ml-df709a03064e)\n",
    "> - Check out the Jovian.ml Medium publication for inspiration: https://medium.com/jovianml\n",
    "\n",
    "\n",
    " "
   ]
  },
  {
   "cell_type": "code",
   "execution_count": 32,
   "metadata": {},
   "outputs": [],
   "source": [
    "import jovian"
   ]
  },
  {
   "cell_type": "code",
   "execution_count": 35,
   "metadata": {
    "scrolled": true
   },
   "outputs": [
    {
     "data": {
      "application/javascript": [
       "window.require && require([\"base/js/namespace\"],function(Jupyter){Jupyter.notebook.save_checkpoint()})"
      ],
      "text/plain": [
       "<IPython.core.display.Javascript object>"
      ]
     },
     "metadata": {},
     "output_type": "display_data"
    },
    {
     "name": "stdout",
     "output_type": "stream",
     "text": [
      "[jovian] Attempting to save notebook..\u001b[0m\n",
      "[jovian] Updating notebook \"aakashns/zerotopandas-course-project-starter\" on https://jovian.ml/\u001b[0m\n",
      "[jovian] Uploading notebook..\u001b[0m\n",
      "[jovian] Capturing environment..\u001b[0m\n",
      "[jovian] Committed successfully! https://jovian.ml/aakashns/zerotopandas-course-project-starter\u001b[0m\n"
     ]
    },
    {
     "data": {
      "text/plain": [
       "'https://jovian.ml/aakashns/zerotopandas-course-project-starter'"
      ]
     },
     "execution_count": 35,
     "metadata": {},
     "output_type": "execute_result"
    }
   ],
   "source": [
    "jovian.commit()"
   ]
  },
  {
   "cell_type": "code",
   "execution_count": null,
   "metadata": {},
   "outputs": [],
   "source": []
  }
 ],
 "metadata": {
  "kernelspec": {
   "display_name": "Python 3",
   "language": "python",
   "name": "python3"
  },
  "language_info": {
   "codemirror_mode": {
    "name": "ipython",
    "version": 3
   },
   "file_extension": ".py",
   "mimetype": "text/x-python",
   "name": "python",
   "nbconvert_exporter": "python",
   "pygments_lexer": "ipython3",
   "version": "3.8.6"
  }
 },
 "nbformat": 4,
 "nbformat_minor": 4
}
