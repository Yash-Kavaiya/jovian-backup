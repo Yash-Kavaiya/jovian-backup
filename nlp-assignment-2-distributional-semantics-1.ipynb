{
 "cells": [
  {
   "cell_type": "markdown",
   "metadata": {},
   "source": [
    "# NLP Assignment 2: Vector Space Semantics for Similarity between Characters\n",
    "\n",
    "In this assignment, you will be creating a vector representation of a document containing lines spoken by a character in the Eastend script data (i.e. from the file `training.csv`), then improving that representation such that each character vector is maximially distinguished from the other character documents. This distinction is measured by how well a simple information retrieval classification method can select documents from validation and test data as belonging to the correct class of document (i.e. deciding which character spoke the lines by measuring the similarity of those character document vectors to those built in training).\n",
    "\n",
    "As the lines are not evenly distributed in terms of frequency, this coursework stipulates you can only use a maximum of the first **400 lines** of each character in the training data `training.csv` to create the training documents, and a maximum of the first **40 lines** in the test data (from `test.csv`). This makes it more challenging, as number of lines spoken by a character can't be used directly or otherwise as a feature.\n",
    "\n",
    "A simple vector representation for each character document is done for you to start with in this code, as is the pipeline of similarity-based information retrieval based evaluation. You need to improve the character vector representations by pre-processing, feature extraction and transformation techniques, as per Questions 1-6 below, which you need to complete as instructed.\n",
    "\n",
    "**Refer to the material in units 8-9 for conceptual background.**"
   ]
  },
  {
   "cell_type": "markdown",
   "metadata": {},
   "source": [
    "#### Warning :\n",
    "if you get Lookover error in nltk then just download that package by : <br>\n",
    "`nltk.download(package_name)`"
   ]
  },
  {
   "cell_type": "code",
   "execution_count": 5,
   "metadata": {},
   "outputs": [
    {
     "name": "stdout",
     "output_type": "stream",
     "text": [
      "Requirement already satisfied: nltk in /opt/conda/lib/python3.9/site-packages (3.8)\r\n",
      "Requirement already satisfied: regex>=2021.8.3 in /opt/conda/lib/python3.9/site-packages (from nltk) (2022.10.31)\r\n",
      "Requirement already satisfied: tqdm in /opt/conda/lib/python3.9/site-packages (from nltk) (4.62.3)\r\n",
      "Requirement already satisfied: click in /opt/conda/lib/python3.9/site-packages (from nltk) (8.0.3)\r\n",
      "Requirement already satisfied: joblib in /opt/conda/lib/python3.9/site-packages (from nltk) (1.1.0)\r\n"
     ]
    }
   ],
   "source": [
    "!pip install nltk\n",
    "import nltk"
   ]
  },
  {
   "cell_type": "code",
   "execution_count": 6,
   "metadata": {},
   "outputs": [
    {
     "name": "stderr",
     "output_type": "stream",
     "text": [
      "[nltk_data] Downloading package stopwords to /home/jovyan/nltk_data...\n",
      "[nltk_data]   Package stopwords is already up-to-date!\n",
      "[nltk_data] Downloading package averaged_perceptron_tagger to\n",
      "[nltk_data]     /home/jovyan/nltk_data...\n",
      "[nltk_data]   Package averaged_perceptron_tagger is already up-to-\n",
      "[nltk_data]       date!\n",
      "[nltk_data] Downloading package wordnet to /home/jovyan/nltk_data...\n",
      "[nltk_data]   Package wordnet is already up-to-date!\n"
     ]
    },
    {
     "data": {
      "text/plain": [
       "True"
      ]
     },
     "execution_count": 6,
     "metadata": {},
     "output_type": "execute_result"
    }
   ],
   "source": [
    "nltk.download('stopwords')\n",
    "nltk.download('averaged_perceptron_tagger')\n",
    "nltk.download('wordnet')"
   ]
  },
  {
   "cell_type": "code",
   "execution_count": 7,
   "metadata": {},
   "outputs": [],
   "source": [
    "import string\n",
    "import re\n",
    "import numpy as np\n",
    "from numpy.linalg import norm\n",
    "import pandas as pd\n",
    "from collections import Counter, OrderedDict\n",
    "\n",
    "import seaborn as sns\n",
    "import matplotlib.pyplot as plt\n",
    "\n",
    "import nltk\n",
    "\n",
    "from sklearn.feature_extraction import DictVectorizer\n",
    "\n",
    "%matplotlib inline\n",
    "pd.options.display.max_colwidth=500"
   ]
  },
  {
   "cell_type": "code",
   "execution_count": 8,
   "metadata": {},
   "outputs": [
    {
     "data": {
      "text/html": [
       "<div>\n",
       "<style scoped>\n",
       "    .dataframe tbody tr th:only-of-type {\n",
       "        vertical-align: middle;\n",
       "    }\n",
       "\n",
       "    .dataframe tbody tr th {\n",
       "        vertical-align: top;\n",
       "    }\n",
       "\n",
       "    .dataframe thead th {\n",
       "        text-align: right;\n",
       "    }\n",
       "</style>\n",
       "<table border=\"1\" class=\"dataframe\">\n",
       "  <thead>\n",
       "    <tr style=\"text-align: right;\">\n",
       "      <th></th>\n",
       "      <th>Episode</th>\n",
       "      <th>Scene</th>\n",
       "      <th>Scene_info</th>\n",
       "      <th>Character_name</th>\n",
       "      <th>Line</th>\n",
       "      <th>Gender</th>\n",
       "    </tr>\n",
       "  </thead>\n",
       "  <tbody>\n",
       "    <tr>\n",
       "      <th>0</th>\n",
       "      <td>1350</td>\n",
       "      <td>1</td>\n",
       "      <td>DESERTED CAR PARK EXT NIGHT</td>\n",
       "      <td>SHIRLEY</td>\n",
       "      <td>Look at ya, not a mark on ya. And you think you're an unlucky man.</td>\n",
       "      <td>FEMALE</td>\n",
       "    </tr>\n",
       "    <tr>\n",
       "      <th>1</th>\n",
       "      <td>1350</td>\n",
       "      <td>1</td>\n",
       "      <td>DESERTED CAR PARK EXT NIGHT</td>\n",
       "      <td>OTHER</td>\n",
       "      <td>Shirl...</td>\n",
       "      <td>MALE</td>\n",
       "    </tr>\n",
       "    <tr>\n",
       "      <th>2</th>\n",
       "      <td>1350</td>\n",
       "      <td>2</td>\n",
       "      <td>R&amp;R INT NIGHT</td>\n",
       "      <td>JACK</td>\n",
       "      <td>Oi. Where have you been? Huh? What were the texts about?</td>\n",
       "      <td>MALE</td>\n",
       "    </tr>\n",
       "    <tr>\n",
       "      <th>3</th>\n",
       "      <td>1350</td>\n",
       "      <td>2</td>\n",
       "      <td>R&amp;R INT NIGHT</td>\n",
       "      <td>RONNIE</td>\n",
       "      <td>Nothing. Nothing. I'll be with you in two minutes yeah?</td>\n",
       "      <td>FEMALE</td>\n",
       "    </tr>\n",
       "    <tr>\n",
       "      <th>4</th>\n",
       "      <td>1350</td>\n",
       "      <td>2</td>\n",
       "      <td>R&amp;R INT NIGHT</td>\n",
       "      <td>JACK</td>\n",
       "      <td>Well I've got mates here I wanted to have a chat with them, instead I've been serving behind the bar.</td>\n",
       "      <td>MALE</td>\n",
       "    </tr>\n",
       "    <tr>\n",
       "      <th>...</th>\n",
       "      <td>...</td>\n",
       "      <td>...</td>\n",
       "      <td>...</td>\n",
       "      <td>...</td>\n",
       "      <td>...</td>\n",
       "      <td>...</td>\n",
       "    </tr>\n",
       "    <tr>\n",
       "      <th>15314</th>\n",
       "      <td>1399</td>\n",
       "      <td>55</td>\n",
       "      <td>SQUARE EXT DAY LIGHT</td>\n",
       "      <td>OTHER</td>\n",
       "      <td>Dad? Okay ... alright, just one drink alright. But that's all. It doesn't mean anything. It's just a drink.</td>\n",
       "      <td>MALE</td>\n",
       "    </tr>\n",
       "    <tr>\n",
       "      <th>15315</th>\n",
       "      <td>1399</td>\n",
       "      <td>55</td>\n",
       "      <td>SQUARE EXT DAY LIGHT</td>\n",
       "      <td>MAX</td>\n",
       "      <td>Thanks Bradley. Thanks mate... It means the world to me...</td>\n",
       "      <td>MALE</td>\n",
       "    </tr>\n",
       "    <tr>\n",
       "      <th>15316</th>\n",
       "      <td>1399</td>\n",
       "      <td>55</td>\n",
       "      <td>SQUARE EXT DAY LIGHT</td>\n",
       "      <td>OTHER</td>\n",
       "      <td>You alright...</td>\n",
       "      <td>MALE</td>\n",
       "    </tr>\n",
       "    <tr>\n",
       "      <th>15317</th>\n",
       "      <td>1399</td>\n",
       "      <td>55</td>\n",
       "      <td>SQUARE EXT DAY LIGHT</td>\n",
       "      <td>MAX</td>\n",
       "      <td>Yeah, yeah, yeah. I'm fine.</td>\n",
       "      <td>MALE</td>\n",
       "    </tr>\n",
       "    <tr>\n",
       "      <th>15318</th>\n",
       "      <td>1399</td>\n",
       "      <td>55</td>\n",
       "      <td>SQUARE EXT DAY LIGHT</td>\n",
       "      <td>OTHER</td>\n",
       "      <td>Well, let me know.</td>\n",
       "      <td>MALE</td>\n",
       "    </tr>\n",
       "  </tbody>\n",
       "</table>\n",
       "<p>15319 rows × 6 columns</p>\n",
       "</div>"
      ],
      "text/plain": [
       "       Episode  Scene                   Scene_info Character_name  \\\n",
       "0         1350      1  DESERTED CAR PARK EXT NIGHT        SHIRLEY   \n",
       "1         1350      1  DESERTED CAR PARK EXT NIGHT          OTHER   \n",
       "2         1350      2                R&R INT NIGHT           JACK   \n",
       "3         1350      2                R&R INT NIGHT         RONNIE   \n",
       "4         1350      2                R&R INT NIGHT           JACK   \n",
       "...        ...    ...                          ...            ...   \n",
       "15314     1399     55         SQUARE EXT DAY LIGHT          OTHER   \n",
       "15315     1399     55         SQUARE EXT DAY LIGHT            MAX   \n",
       "15316     1399     55         SQUARE EXT DAY LIGHT          OTHER   \n",
       "15317     1399     55         SQUARE EXT DAY LIGHT            MAX   \n",
       "15318     1399     55         SQUARE EXT DAY LIGHT          OTHER   \n",
       "\n",
       "                                                                                                              Line  \\\n",
       "0                                               Look at ya, not a mark on ya. And you think you're an unlucky man.   \n",
       "1                                                                                                         Shirl...   \n",
       "2                                                         Oi. Where have you been? Huh? What were the texts about?   \n",
       "3                                                          Nothing. Nothing. I'll be with you in two minutes yeah?   \n",
       "4            Well I've got mates here I wanted to have a chat with them, instead I've been serving behind the bar.   \n",
       "...                                                                                                            ...   \n",
       "15314  Dad? Okay ... alright, just one drink alright. But that's all. It doesn't mean anything. It's just a drink.   \n",
       "15315                                                   Thanks Bradley. Thanks mate... It means the world to me...   \n",
       "15316                                                                                               You alright...   \n",
       "15317                                                                                  Yeah, yeah, yeah. I'm fine.   \n",
       "15318                                                                                           Well, let me know.   \n",
       "\n",
       "       Gender  \n",
       "0      FEMALE  \n",
       "1        MALE  \n",
       "2        MALE  \n",
       "3      FEMALE  \n",
       "4        MALE  \n",
       "...       ...  \n",
       "15314    MALE  \n",
       "15315    MALE  \n",
       "15316    MALE  \n",
       "15317    MALE  \n",
       "15318    MALE  \n",
       "\n",
       "[15319 rows x 6 columns]"
      ]
     },
     "execution_count": 8,
     "metadata": {},
     "output_type": "execute_result"
    }
   ],
   "source": [
    "# Load in training data and display in pandas dataframe\n",
    "train_path='training.csv'\n",
    "all_train_data = pd.read_csv(train_path,  delimiter=\"\\t\", skip_blank_lines = True)\n",
    "test_path ='test.csv'\n",
    "test_data = pd.read_csv(test_path,  delimiter=\"\\t\", skip_blank_lines = True)\n",
    "\n",
    "# Inspect\n",
    "all_train_data"
   ]
  },
  {
   "cell_type": "code",
   "execution_count": 9,
   "metadata": {},
   "outputs": [
    {
     "name": "stdout",
     "output_type": "stream",
     "text": [
      "1394\n",
      "1254 140\n"
     ]
    }
   ],
   "source": [
    "# Split into training and test data for heldout validation with random samples of 9:1 train/heldout split\n",
    "from random import shuffle, seed\n",
    "\n",
    "seed(0) # set a seed for reproducibility so same split is used each time\n",
    "\n",
    "epsiode_scene_column = all_train_data.Episode.astype(str) + \"-\" + all_train_data.Scene.astype(str)\n",
    "all_train_data['episode_scene'] = epsiode_scene_column\n",
    "episode_scenes = sorted(list(set([x for x in epsiode_scene_column.values]))) # need to sort to ensure same initial order\n",
    "\n",
    "shuffle(episode_scenes)\n",
    "\n",
    "print(len(episode_scenes))\n",
    "episode_split = int(0.9*len(episode_scenes))\n",
    "training_ep_scenes = episode_scenes[:episode_split]\n",
    "test_ep_scenes = episode_scenes[episode_split:]\n",
    "print(len(training_ep_scenes), len(test_ep_scenes))\n",
    "\n",
    "def train_or_heldout_eps(val):\n",
    "    if val in training_ep_scenes:\n",
    "        return \"training\"\n",
    "    return \"heldout\"\n",
    "\n",
    "all_train_data['train_heldout'] = all_train_data['episode_scene'].apply(train_or_heldout_eps)"
   ]
  },
  {
   "cell_type": "code",
   "execution_count": 10,
   "metadata": {},
   "outputs": [
    {
     "name": "stdout",
     "output_type": "stream",
     "text": [
      "Raw Data:  (15319, 8)\n",
      "Train set:  (13638, 8)\n",
      "Validation set:  (1681, 8)\n"
     ]
    }
   ],
   "source": [
    "print('Raw Data: ',np.shape(all_train_data))\n",
    "train_data = all_train_data[all_train_data['train_heldout']=='training']\n",
    "val_data = all_train_data[all_train_data['train_heldout']=='heldout']\n",
    "print('Train set: ',np.shape(train_data))\n",
    "print('Validation set: ',np.shape(val_data))"
   ]
  },
  {
   "cell_type": "code",
   "execution_count": 11,
   "metadata": {},
   "outputs": [],
   "source": [
    "def parse_scene_info(scene_info):\n",
    "    '''\n",
    "    function take scene_info and convert into key points and return string of points.\n",
    "    input : string \n",
    "    '''\n",
    "    si1, si2, si3 = 'other','other','other'\n",
    "    for i in scene_info.split():\n",
    "        i = i.replace(\"'\", '')\n",
    "        if i in ['EXT', 'INT']:\n",
    "            si2=i\n",
    "            continue\n",
    "        if i in ['DAY', 'NIGHT', 'DUSK']:\n",
    "            si3=i\n",
    "            continue\n",
    "        if i in ['BEALES', 'SLATERS', 'BRANNINGS', 'LAUNDERETTE', 'FLAT', 'HOUSE', 'SQUARE', 'STREET', 'VIC', 'CAFE']:\n",
    "            si1=i\n",
    "            continue\n",
    " \n",
    "    return f'{si1}_{si2}_{si3}'"
   ]
  },
  {
   "cell_type": "code",
   "execution_count": 12,
   "metadata": {},
   "outputs": [],
   "source": [
    "if False:\n",
    "    # A simpler alternative to the above, but where a high split means some characters\n",
    "    # may be left out\n",
    "    print('Raw Data: ',np.shape(all_train_data))\n",
    "    idx = int(0.9 * np.shape(all_train_data)[0])\n",
    "    train_data = all_train_data[:idx]\n",
    "    val_data = all_train_data[idx:]\n",
    "    \n",
    "    print('Train set: ',np.shape(train_data))\n",
    "    print('Validation set: ',np.shape(val_data))"
   ]
  },
  {
   "cell_type": "code",
   "execution_count": 13,
   "metadata": {},
   "outputs": [],
   "source": [
    "# Create one document per character\n",
    "def create_character_document_from_dataframe(df, max_line_count):\n",
    "    \"\"\"Returns a dict with the name of the character as key,\n",
    "    their lines joined together as a single string, with end of line _EOL_\n",
    "    markers between them.\n",
    "    \n",
    "    ::max_line_count:: the maximum number of lines to be added per character\n",
    "    \"\"\"\n",
    "    character_docs = {}\n",
    "    character_line_count = {}\n",
    "    for name, i in train_data.groupby(['Episode', 'Scene']):\n",
    "        prev_char = 'None'\n",
    "        for line, name, gender, scene_info in zip(df.Line, df.Character_name, df.Gender, df.Scene_info):\n",
    "            if not name in character_docs.keys():\n",
    "                character_docs[name] = \"\"\n",
    "                character_line_count[name] = 0\n",
    "            if character_line_count[name]==max_line_count:\n",
    "                continue\n",
    "            scene_info_ = parse_scene_info(scene_info)\n",
    "            try:\n",
    "                line = ' '.join([prev_char+'_'+i+'_'+gender+'_'+scene_info_ for i in line.split()]) # add context info\n",
    "            except:\n",
    "                pass\n",
    "            character_docs[name] += str(line)   + \" _EOL_ \"  # adding an end-of-line token\n",
    "            character_line_count[name]+=1\n",
    "            prev_char = name\n",
    "    return character_docs"
   ]
  },
  {
   "cell_type": "code",
   "execution_count": 14,
   "metadata": {},
   "outputs": [
    {
     "name": "stdout",
     "output_type": "stream",
     "text": [
      "Num. Characters:  16 \n",
      "\n",
      "SHIRLEY Number of Words:  3848\n",
      "OTHER Number of Words:  3244\n",
      "JACK Number of Words:  4435\n",
      "RONNIE Number of Words:  3442\n",
      "TANYA Number of Words:  3786\n",
      "SEAN Number of Words:  3637\n",
      "ROXY Number of Words:  3838\n",
      "HEATHER Number of Words:  4098\n",
      "MAX Number of Words:  4363\n",
      "IAN Number of Words:  4332\n",
      "JANE Number of Words:  3648\n",
      "STACEY Number of Words:  3913\n",
      "PHIL Number of Words:  3635\n",
      "MINTY Number of Words:  4005\n",
      "CHRISTIAN Number of Words:  4021\n",
      "CLARE Number of Words:  4387\n",
      "total words 62632\n"
     ]
    }
   ],
   "source": [
    "# print out the number of words each character has in the training set\n",
    "# only use the first 360 lines of each character\n",
    "train_character_docs = create_character_document_from_dataframe(train_data, max_line_count=360)\n",
    "print('Num. Characters: ',len(train_character_docs.keys()),\"\\n\")\n",
    "total_words = 0\n",
    "for name in train_character_docs.keys():\n",
    "    print(name, 'Number of Words: ',len(train_character_docs[name].split()))\n",
    "    total_words += len(train_character_docs[name].split())\n",
    "print(\"total words\", total_words)"
   ]
  },
  {
   "cell_type": "code",
   "execution_count": 15,
   "metadata": {},
   "outputs": [],
   "source": [
    "from nltk import ngrams\n",
    "from nltk.corpus import stopwords\n",
    "all_stopwords = stopwords.words('english')\n",
    "\n",
    "punctuation = string.punctuation\n",
    "punctuation = punctuation.replace('_', '')\n",
    "\n",
    "def pre_process(character_text):\n",
    "    \"\"\"Pre-process all the concatenated lines of a character, \n",
    "    using tokenization, spelling normalization and other techniques.\n",
    "    \n",
    "    Initially just a tokenization on white space. Improve this for Q1.\n",
    "    \n",
    "    ::character_text:: a string with all of one character's lines\n",
    "    \"\"\"\n",
    "    character_text = character_text.lower()\n",
    "    character_text = re.sub(r'\\d+', '', character_text)  # remove digits\n",
    "    character_text = character_text.translate(str.maketrans('','',punctuation))\n",
    "    character_text = character_text.replace('£', '')\n",
    "    \n",
    "\n",
    "    spell_norm = {\"'ll\": \" will\",\n",
    "                  \"'ve\": \" have\", \"'s\": \" is\", \"'m\": \" am\", \"'d\": \" had\", \"'re\": \" are\", \"won't\": \"would not\", \"n't\": \" not\", \"youve\":\"you have\",\n",
    "                 \"dont\":\"do not\", \"doesnt\":\"does not\", \"cant\":\"can not\", \"isnt\":\"is not\", \"itll\":\"it will\", \"shes\":\"she is\", \"hes\":\"he is\",\n",
    "                 \"hasnt\":\"has not\", \"havent\":\"have not\", \"dyou\":\"do you\", \"hows\":\"how is\", \"ive\":\"i have\", \"im\":\"i am\"}\n",
    "    \n",
    "    for word, new_word in spell_norm.items():\n",
    "        character_text = character_text.replace(word, new_word)\n",
    "        \n",
    "    character_text = ' '.join([i for i in character_text.split(' ') if i not in all_stopwords])  # removing stop words\n",
    "    \n",
    "    return character_text"
   ]
  },
  {
   "cell_type": "code",
   "execution_count": 16,
   "metadata": {},
   "outputs": [],
   "source": [
    "# create list of pairs of (character name, pre-processed character) \n",
    "training_corpus = [(name, pre_process(doc)) for name, doc in sorted(train_character_docs.items())]\n",
    "train_labels = [name for name, doc in training_corpus]"
   ]
  },
  {
   "cell_type": "code",
   "execution_count": 17,
   "metadata": {},
   "outputs": [],
   "source": [
    "from nltk.stem.wordnet import WordNetLemmatizer\n",
    "lm = WordNetLemmatizer()\n",
    "\n",
    "def to_feature_vector_dictionary(character_doc, extra_features):\n",
    "    \"\"\"Converts a list of pre-processed tokens and extra features\n",
    "    to a Dictionary as a function of the tokens.\n",
    "    \n",
    "    Initially just a simple count. Improve this for Q2.\n",
    "    \n",
    "    ::character_doc:: a list of pre-processed tokens\n",
    "    ::extra_features:: any extra features for the character to be added to feature vector dict\n",
    "    \"\"\"\n",
    "    #character_doc = character_doc + list(['_'.join(j) for j in nltk.pos_tag(character_doc)])\n",
    "    d={}\n",
    "    new_character_doc=''\n",
    "    for s, tag in [(lm.lemmatize(i),j) for i,j in nltk.pos_tag(character_doc.split())]:\n",
    "        d[tag] = d.get(tag, 0)+1\n",
    "        new_character_doc += s\n",
    "        new_character_doc+=' '\n",
    "    # add the extra features, for now just adding one count for each extra feature\n",
    "    return new_character_doc.strip(), d"
   ]
  },
  {
   "cell_type": "code",
   "execution_count": 18,
   "metadata": {},
   "outputs": [],
   "source": [
    "from sklearn.feature_extraction.text import CountVectorizer, TfidfTransformer"
   ]
  },
  {
   "cell_type": "code",
   "execution_count": 19,
   "metadata": {},
   "outputs": [],
   "source": [
    "corpusVectorizer = CountVectorizer(ngram_range=(1,2), max_df=0.9, min_df=0, max_features = None)   # corpusVectorizor which will just produce sparse vectors from feature dicts\n",
    "\n",
    "tfidfvectorizr = TfidfTransformer()\n",
    "tag_vec = DictVectorizer()\n",
    "\n",
    "def create_document_matrix_from_corpus(corpus, fitting=False):\n",
    "    \"\"\"Method which fits different vectorizers\n",
    "    on data and returns a matrix.\n",
    "    \n",
    "    Currently just does simple conversion to matrix by vectorizing the dictionary. Improve this for Q3.\n",
    "    \n",
    "    ::corpus:: a list of (class_label, document) pairs.\n",
    "    ::fitting:: a boolean indicating whether to fit/train the vectorizers (should be true on training data)\n",
    "    \"\"\"\n",
    "    \n",
    "    # uses the global variable of the corpus Vectorizer to improve things\n",
    "    tags = [to_feature_vector_dictionary(doc, [])[1] for name, doc in corpus]\n",
    "    docs = [to_feature_vector_dictionary(doc, [])[0] for name, doc in corpus]\n",
    "    \n",
    "    if fitting:\n",
    "        tag_vec.fit(tags)\n",
    "        corpusVectorizer.fit(docs)\n",
    "    \n",
    "    doc_feature_matrix = corpusVectorizer.transform(docs).toarray()\n",
    "    tags = tag_vec.transform(tags).toarray()\n",
    "    tags = tags/tags.sum(axis=1)[:,None]+1 # Tag probability in doc\n",
    "    \n",
    "    doc_feature_matrix = np.hstack((tags, doc_feature_matrix))\n",
    "    if fitting:\n",
    "        tfidfvectorizr.fit(doc_feature_matrix)\n",
    "    \n",
    "    doc_feature_matrix = tfidfvectorizr.transform(doc_feature_matrix).toarray()\n",
    "    #training_feature_matrix[0].toarray()\n",
    "    return doc_feature_matrix\n",
    "\n",
    "training_feature_matrix = create_document_matrix_from_corpus(training_corpus, fitting=True)"
   ]
  },
  {
   "cell_type": "code",
   "execution_count": 20,
   "metadata": {
    "tags": []
   },
   "outputs": [
    {
     "name": "stdout",
     "output_type": "stream",
     "text": [
      "Num. Characters:  16 \n",
      "\n",
      "TANYA Num of Words:  438\n",
      "MAX Num of Words:  737\n",
      "SEAN Num of Words:  396\n",
      "SHIRLEY Num of Words:  329\n",
      "OTHER Num of Words:  357\n",
      "STACEY Num of Words:  412\n",
      "RONNIE Num of Words:  464\n",
      "JACK Num of Words:  351\n",
      "PHIL Num of Words:  475\n",
      "IAN Num of Words:  508\n",
      "JANE Num of Words:  458\n",
      "ROXY Num of Words:  392\n",
      "HEATHER Num of Words:  411\n",
      "MINTY Num of Words:  470\n",
      "CHRISTIAN Num of Words:  489\n",
      "CLARE Num of Words:  405\n",
      "total words 7092\n"
     ]
    }
   ],
   "source": [
    "# get the validation data- only 40 lines used for each character\n",
    "val_character_docs = create_character_document_from_dataframe(val_data, max_line_count=40)\n",
    "print('Num. Characters: ',len(val_character_docs.keys()),\"\\n\")\n",
    "total_words = 0\n",
    "for name in val_character_docs.keys():\n",
    "    print(name, 'Num of Words: ',len(val_character_docs[name].split()))\n",
    "    total_words += len(val_character_docs[name].split())\n",
    "print(\"total words\", total_words)\n",
    "\n",
    "# create list of pairs of (character name, pre-processed character) \n",
    "val_corpus = [(name, pre_process(doc)) for name, doc in sorted(val_character_docs.items())]\n",
    "val_labels = [name for name, doc in val_corpus]\n",
    "\n",
    "# Just transform the val_feature_matrix, don't fit\n",
    "val_feature_matrix = create_document_matrix_from_corpus(val_corpus, fitting=False)\n"
   ]
  },
  {
   "cell_type": "code",
   "execution_count": 21,
   "metadata": {
    "tags": []
   },
   "outputs": [
    {
     "name": "stdout",
     "output_type": "stream",
     "text": [
      "mean rank 1.375\n",
      "mean cosine similarity 0.22383252915000268\n",
      "11 correct out of 16 / accuracy: 0.6875\n"
     ]
    },
    {
     "data": {
      "image/png": "[encoded data removed]",
      "text/plain": [
       "<Figure size 1440x1440 with 2 Axes>"
      ]
     },
     "metadata": {
      "needs_background": "light"
     },
     "output_type": "display_data"
    }
   ],
   "source": [
    "def compute_cosine_similarity(v1, v2):\n",
    "    \"\"\"Takes a pair of vectors v1 and v2 (1-d arrays e.g. [0, 0.5, 0.5])\n",
    "    returns the cosine similarity between the vectors\n",
    "    \"\"\"\n",
    "    \n",
    "    # compute cosine similarity manually\n",
    "    manual_cosine_similarity = np.dot(v1, v2)  /(norm(v1) * norm(v2))\n",
    "    \n",
    "    return manual_cosine_similarity\n",
    "\n",
    "def compute_IR_evaluation_scores(train_feature_matrix, test_feature_matrix, train_labels, test_labels):\n",
    "    \"\"\"\n",
    "    Computes an information retrieval based on training data feature matrix and test data feature matrix\n",
    "    returns 4-tuple:\n",
    "    ::mean_rank:: mean of the ranking of the target document in terms of similarity to the query/test document\n",
    "    1 is the best possible score.\n",
    "    ::mean_cosine_similarity:: mean cosine similarity score for the target document vs. the test document of the same class\n",
    "    ::accuracy:: proportion of test documents correctly classified\n",
    "    ::df:: a data frame with all the similarity measures of the test documents vs. train documents\n",
    "    \n",
    "    params:\n",
    "    ::train_feature_matrix:: a numpy matrix N x M shape where N = number of characters M = number of features\n",
    "    ::test_feature_matrix::  a numpy matrix N x M shape where N = number of characters M = number of features\n",
    "    ::train_labels:: a list of character names for the training data in order consistent with train_feature_matrix\n",
    "    ::test_labels:: a list of character names for the test data in order consistent with test_feature_matrix\n",
    "    \"\"\"\n",
    "    rankings = []\n",
    "    all_cosine_similarities = []\n",
    "    pairwise_cosine_similarity = []\n",
    "    pairs = []\n",
    "    correct = 0\n",
    "    for i, target in enumerate(test_labels):\n",
    "        # compare the left out character against the mean\n",
    "        idx = i \n",
    "        fm_1 = test_feature_matrix[idx]\n",
    "        all_sims = {}\n",
    "        # print(\"target:\", target)\n",
    "        for j, other in enumerate(train_labels):\n",
    "            fm_2 = train_feature_matrix[j]\n",
    "            manual_cosine_similarity = compute_cosine_similarity(fm_1, fm_2)\n",
    "            pairs.append((target, other))\n",
    "            pairwise_cosine_similarity.append(manual_cosine_similarity)\n",
    "            if other == target:\n",
    "                all_cosine_similarities.append(manual_cosine_similarity)\n",
    "            all_sims[other] = manual_cosine_similarity\n",
    "\n",
    "            # print(target, other, manual_cosine_similarity)\n",
    "        sorted_similarities = sorted(all_sims.items(),key=lambda x:x[1],reverse=True)\n",
    "        # print(sorted_similarities)\n",
    "        ranking = {key[0]: rank for rank, key in enumerate(sorted_similarities, 1)}\n",
    "        # print(\"Ranking for target\", ranking[target])\n",
    "        if ranking[target] == 1:\n",
    "            correct += 1\n",
    "        rankings.append(ranking[target])\n",
    "        # print(\"*****\")\n",
    "    mean_rank = np.mean(rankings)\n",
    "    mean_cosine_similarity = np.mean(all_cosine_similarities)\n",
    "    accuracy = correct/len(test_labels)\n",
    "    print(\"mean rank\", np.mean(rankings))\n",
    "    print(\"mean cosine similarity\", mean_cosine_similarity)\n",
    "    print(correct, \"correct out of\", len(test_labels), \"/ accuracy:\", accuracy )\n",
    "    \n",
    "    # get a dafaframe showing all the similarity scores of training vs test docs\n",
    "    df = pd.DataFrame({'doc1': [x[0] for x in pairs], 'doc2': [x[1] for x in pairs],\n",
    "                       'similarity': pairwise_cosine_similarity})\n",
    "\n",
    "    # display characters which are most similar and least similar\n",
    "    df.loc[[df.similarity.values.argmax(), df.similarity.values.argmin()]]\n",
    "    return (mean_rank, mean_cosine_similarity, accuracy, df)\n",
    "\n",
    "def plot_heat_map_similarity(df):\n",
    "    \"\"\"Takes a dataframe with header 'doc1, doc2, similarity'\n",
    "    Plots a heatmap based on the similarity scores.\n",
    "    \"\"\"\n",
    "    test_labels =  sorted(list(set(df.sort_values(['doc1'])['doc1'])))\n",
    "    # add padding 1.0 values to either side\n",
    "    cm = [[1.0,] * (len(test_labels)+2)]\n",
    "    for target in test_labels:\n",
    "        new_row = [1.0]\n",
    "        for x in df.sort_values(['doc1', 'doc2']).loc[df['doc1']==target]['similarity']:\n",
    "            new_row.append(x)\n",
    "        new_row.append(1.0)\n",
    "        cm.append(new_row)\n",
    "    cm.append([1.0,] * (len(test_labels)+2))\n",
    "    #print(cm)\n",
    "    labels = [\"\"] + test_labels + [\"\"]\n",
    "    fig = plt.figure(figsize=(20,20))\n",
    "    ax = fig.add_subplot(111)\n",
    "    cax = ax.matshow(cm)\n",
    "    plt.title('Similarity matrix between documents as vectors')\n",
    "    fig.colorbar(cax)\n",
    "    ax.set_xticks(np.arange(len(labels)))\n",
    "    ax.set_yticks(np.arange(len(labels)))\n",
    "    ax.set_xticklabels( labels, rotation=45)\n",
    "    ax.set_yticklabels( labels)\n",
    "\n",
    "    for i in range(len(cm)):\n",
    "        for j in range(len(cm)):\n",
    "\n",
    "            text = ax.text(j, i, round(cm[i][j],3),\n",
    "                           ha=\"center\", va=\"center\", color=\"w\")\n",
    "\n",
    "    plt.xlabel('Training Vector Doc')\n",
    "    plt.ylabel('Test Vector Doc')\n",
    "    #fig.tight_layout()\n",
    "    plt.show()\n",
    "mean_rank, mean_cosine_simliarity, acc, df = compute_IR_evaluation_scores(training_feature_matrix, val_feature_matrix, train_labels, val_labels)\n",
    "\n",
    "plot_heat_map_similarity(df)"
   ]
  },
  {
   "cell_type": "markdown",
   "metadata": {},
   "source": [
    "# Q1. Improve pre-processing (20 marks)\n",
    "Using the pre-processing techniques you have learned in the module, improve the `pre_process` function above, which currently just tokenizes text based on white space.\n",
    "\n",
    "When developing, use the 90% train and 10% validation data split from the training file, using the first 360 lines from the training split and first 40 lines from the validation split, as per above. To check the improvements by using the different techniques, use the `compute_IR_evaluation_scores` function as above. The **mean rank** is the main metric you need to focus on improving throughout this assignment, where the target/best possible performance is **1** (i.e. all test/validation data character documents are closest to their corresponding training data character documents) and the worst is **16**. Initially the code in this template achieves a mean rank of **5.12**  and accuracy of **0.3125** on the test set and a mean rank of **4.5** and accuracy of **0.25** on the validation set - you should be looking to improve those, particularly getting the mean rank as close to 1 as possible.\n"
   ]
  },
  {
   "cell_type": "markdown",
   "metadata": {},
   "source": [
    "### Answer : \n",
    "\n",
    "For preprocessing, \n",
    "1. first convert whole sentences to lower alphabate by `.lower()`. \n",
    "2. then replace digits with `DIGIT` by `re.sub(r'\\d+', 'DIGIT', character_text)`. \n",
    "3. followed by removing punctuation other than `'_'` by `.translate(str.maketrans('','',punctuation))`. \n",
    "4. then done some text normalization for example converting short form of english word into full form of word. `i.e i'll -> i will, we've -> we have, dont -> do not, im -> i am etc.`\n",
    "5. removing stopwords as it occures more frequently in sentences.`i.e stopwords.words('english')`<br><br>\n",
    "Due to result of which mean rank came more closer to 1 as we are improving quality of data.\n",
    "<br>\n",
    "\n",
    "check `pre_process` function."
   ]
  },
  {
   "cell_type": "markdown",
   "metadata": {},
   "source": [
    "# Q2. Improve linguistic feature extraction (20 marks)\n",
    "Use the feature extraction techniques you have learned to improve the `to_feature_vector_dictionary` function above. Examples of extra features could include extracting n-grams of different lengths and including POS-tags. You could also use sentiment analysis or another text classifier's result when applied to the features for each character document. You could even use a gender classifier trained on the same data using the GENDER column **(but DO NOT USE the GENDER column directly in the features for the final vector)**.\n",
    "\n",
    "You could use feature selection/reduction with techniques like minimum/maximum document frequency and/or feature selection like k-best selection using different statistical tests https://scikit-learn.org/stable/modules/generated/sklearn.feature_selection.SelectKBest.html. Again, develop on 90% training and 10% validation split and note the effect/improvement in mean rank with the techniques you use."
   ]
  },
  {
   "cell_type": "markdown",
   "metadata": {},
   "source": [
    "### Answer :\n",
    "used POS tag but instead of using directly as feature but i count all POS tag's probability for each charector as array and attach it with main features array, check tag_vec. for example, suppose SHIRLEY's sentences have 100 PRP tag, 50 CC tag and 500 NN tag, same goes with all character so instead of stacking it directly i convert it into probability so now SHIRLEY's tags become 0.15, 0.07, 0.76. also modified `to_feature_vector_dictionary` function with WordNetLemmatizer which is other then stemming for example if word `information` and `informative` after stemming it become `inform` but lemmatizer keep `information` and `informative` as it is which helps in to keep information. Note that initially, we are using word count as features but i combine it in next function as `CountVectorize` from `sklearn` which have multiple features like adding ngram, filtering based on its occurance. \n",
    "\n",
    "<br>check `to_feature_vector_dictionary` function block."
   ]
  },
  {
   "cell_type": "markdown",
   "metadata": {},
   "source": [
    "# Q3. Analyse the similarity results (10 marks)\n",
    "From your system so far run on the 90%/10% training/validation split, identify the heldout character vectors ranked closest to each character's training vector which are not the character themselves, and those furthest away, as displayed using the `plot_heat_map_similarity` function. In your report, try to ascribe reasons why this is the case, particularly for those where there isn't a successful highest match between the target character in the training set and that character's vector in the heldout set yet. Observations you could make include how their language use is similar, resulting in similar word or ngram features."
   ]
  },
  {
   "cell_type": "markdown",
   "metadata": {},
   "source": [
    "### Answer :\n",
    "#### Most closest with others\n",
    "'Ronnie' - 'Roxy' <br>\n",
    "'other' - 'Heather'<br>\n",
    "'tanya' - 'clare'<br>\n",
    "'Jack' - 'phil'<br>\n",
    "'phil' - 'Minty'<br>\n",
    "\n",
    "#### Most farthest with others\n",
    "'Heather' - 'Max'<br>\n",
    "'Max' - 'Ronnie'<br>\n",
    "'Minty' -  'Stacey'<br>\n",
    "'Christian' -  'clare'<br>\n",
    "'Phil' -  'clare'<br>"
   ]
  },
  {
   "cell_type": "markdown",
   "metadata": {},
   "source": [
    "cosine similarity is high means the value of each feature is almost same for each features that means features is occuring almost same time with other. for whom, similarity are low means features occurance is not same"
   ]
  },
  {
   "cell_type": "markdown",
   "metadata": {},
   "source": [
    "# Q4. Add dialogue context and scene features (20 marks)\n",
    "Adjust `create_character_document_from_dataframe` and the other functions appropriately so the data incorporates the context of the line spoken by the characters in terms of the lines spoken by other characters in the same scene (before and after the target character's lines). HINT: you should use the *Episode* and *Scene* columns to check which characters are in the same scene to decide whether to include their lines or not. You can also use **scene_info** column to extract information about the scene **(but DO NOT USE the GENDER and CHARACTER columns directly)**."
   ]
  },
  {
   "cell_type": "markdown",
   "metadata": {},
   "source": [
    "### Answer\n",
    "To give context, added more features like gender, previous dialog charector name and scene info in special format like `(place)_(position)_(day-time)` check out function `parse_scene_info`, it generate three strings `si1, si2, si3` which stand for `place, position, day-time` accordingly. `si1, si2 and si3` have some sets of words like `si1` has `'BEALES', 'SLATERS', 'BRANNINGS', 'LAUNDERETTE', 'FLAT', 'HOUSE', 'SQUARE', 'STREET', 'VIC', 'CAFE'` which are more common. `si2` has `'INT', 'EXT'`. <br> After that feature become : ` prev-char_dialoge_gender_scene-info`\n",
    "checkout `create_character_document_from_dataframe` function.\n",
    "<Br>\n",
    "this context helps to add more features, it result get mean rank around 1.375. "
   ]
  },
  {
   "cell_type": "markdown",
   "metadata": {},
   "source": [
    "# Q5. Improve the vectorization method (20 marks)\n",
    "Use a matrix transformation technique like TF-IDF (https://scikit-learn.org/stable/modules/generated/sklearn.feature_extraction.text.TfidfTransformer.html) to improve the `create_document_matrix_from_corpus` function, which currently only uses a dictionary vectorizor (`DictVectorizer`) which straight-forwardly maps from the feature dictionaries produced for each character document to a sparse matrix.\n",
    "\n",
    "As the `create_document_matrix_from_corpus` is designed to be used both in training/fitting (with `fitting` set to `True`) and in transformation alone on test/validation data (with `fitting` set to `False`), make sure you initialize any transformers you want to try in the same place as `corpusVectorizer = DictVectorizer()` before you call \n",
    "`create_document_matrix_from_corpus`. Again, develop on 90% training 10% validation split and note the effect/improvement in mean rank with each technique you try."
   ]
  },
  {
   "cell_type": "markdown",
   "metadata": {},
   "source": [
    "### Answer:\n",
    "countvectorize followed by tfidfvectorize gives better result in overall ranking around 1.1875 mean rank because tfidfvectorize helps to select best features for finding similarity by putting less weight to more common words because they don't give any information in finding similarity.<br>\n",
    "check `create_document_matrix_from_corpus` function block."
   ]
  },
  {
   "cell_type": "markdown",
   "metadata": {},
   "source": [
    "# Q6. Run on final test data  (10 marks)\n",
    "Test your best system using the code below to train on all of the training data (using the first 400 lines per character maximum) and do the final testing on the test file (using the first 40 lines per character maximum).\n",
    "\n",
    "Make any neccessary adjustments such that it runs in the same way as the training/testing regime you developed above- e.g. making sure any transformer objects are initialized before `create_document_matrix_from_corpus` is called. Make sure your best system is left in the notebook and it is clear what the mean rank, accuracy of document selection are on the test data."
   ]
  },
  {
   "cell_type": "code",
   "execution_count": 22,
   "metadata": {},
   "outputs": [
    {
     "name": "stdout",
     "output_type": "stream",
     "text": [
      "Num. Characters:  16 \n",
      "\n",
      "SHIRLEY Number of Words:  4233\n",
      "OTHER Number of Words:  3606\n",
      "JACK Number of Words:  4786\n",
      "RONNIE Number of Words:  3872\n",
      "TANYA Number of Words:  4214\n",
      "SEAN Number of Words:  4026\n",
      "ROXY Number of Words:  4200\n",
      "HEATHER Number of Words:  4504\n",
      "MAX Number of Words:  5107\n",
      "IAN Number of Words:  4863\n",
      "JANE Number of Words:  4117\n",
      "STACEY Number of Words:  4325\n",
      "PHIL Number of Words:  4103\n",
      "MINTY Number of Words:  4391\n",
      "CHRISTIAN Number of Words:  4492\n",
      "CLARE Number of Words:  4844\n",
      "total words 69683\n",
      "Num. Characters:  16 \n",
      "\n",
      "SHIRLEY Number of Words:  373\n",
      "OTHER Number of Words:  453\n",
      "HEATHER Number of Words:  451\n",
      "PHIL Number of Words:  406\n",
      "SEAN Number of Words:  466\n",
      "TANYA Number of Words:  465\n",
      "MAX Number of Words:  494\n",
      "JACK Number of Words:  412\n",
      "IAN Number of Words:  509\n",
      "JANE Number of Words:  414\n",
      "STACEY Number of Words:  634\n",
      "ROXY Number of Words:  392\n",
      "RONNIE Number of Words:  390\n",
      "CHRISTIAN Number of Words:  629\n",
      "MINTY Number of Words:  428\n",
      "CLARE Number of Words:  368\n",
      "total words 7284\n",
      "\n",
      "mean rank 1.0\n",
      "mean cosine similarity 0.19881549310599778\n",
      "16 correct out of 16 / accuracy: 1.0\n"
     ]
    }
   ],
   "source": [
    "# redo on all training data with the first 400 character lines used\n",
    "train_character_docs = create_character_document_from_dataframe(all_train_data, max_line_count=400)\n",
    "print('Num. Characters: ',len(train_character_docs.keys()),\"\\n\")\n",
    "total_words = 0\n",
    "for name in train_character_docs.keys():\n",
    "    print(name, 'Number of Words: ',len(train_character_docs[name].split()))\n",
    "    total_words += len(train_character_docs[name].split())\n",
    "print(\"total words\", total_words)\n",
    "\n",
    "training_corpus = [(name, pre_process(doc)) for name, doc in train_character_docs.items()]\n",
    "train_labels = [name for name, doc in training_corpus]\n",
    "\n",
    "# initialize a corpusVectorizor which will output sparse vectors from dicts\n",
    "# Any matrix transformers (e.g. tf-idf transformers) should be initialized here\n",
    "corpusVectorizer = CountVectorizer(ngram_range=(1,3), max_df=0.8, min_df=0)\n",
    "tag_vec = DictVectorizer()\n",
    "\n",
    "training_feature_matrix = create_document_matrix_from_corpus(training_corpus, fitting=True)\n",
    "\n",
    "# get the test data using 40 lines per character\n",
    "test_character_docs = create_character_document_from_dataframe(test_data, max_line_count=40)\n",
    "print('Num. Characters: ',len(test_character_docs.keys()),\"\\n\")\n",
    "total_words = 0\n",
    "for name in test_character_docs.keys():\n",
    "    print(name, 'Number of Words: ',len(test_character_docs[name].split()))\n",
    "    total_words += len(test_character_docs[name].split())\n",
    "print(\"total words\", total_words)\n",
    "\n",
    "# create list of pairs of (character name, pre-processed character) \n",
    "test_corpus = [(name, pre_process(doc)) for name, doc in test_character_docs.items()]\n",
    "test_labels = [name for name, doc in test_corpus]\n",
    "\n",
    "\n",
    "# Just transform the val_feature_matrix, don't fit\n",
    "test_feature_matrix = create_document_matrix_from_corpus(test_corpus, fitting=False)\n",
    "\n",
    "print()\n",
    "mean_rank, mean_cosine_simliarity, acc, df = compute_IR_evaluation_scores(training_feature_matrix, test_feature_matrix, train_labels, test_labels)"
   ]
  },
  {
   "cell_type": "code",
   "execution_count": null,
   "metadata": {},
   "outputs": [],
   "source": []
  },
  {
   "cell_type": "code",
   "execution_count": null,
   "metadata": {},
   "outputs": [],
   "source": []
  },
  {
   "cell_type": "code",
   "execution_count": null,
   "metadata": {},
   "outputs": [],
   "source": []
  }
 ],
 "metadata": {
  "kernelspec": {
   "display_name": "Python 3 (ipykernel)",
   "language": "python",
   "name": "python3"
  },
  "language_info": {
   "codemirror_mode": {
    "name": "ipython",
    "version": 3
   },
   "file_extension": ".py",
   "mimetype": "text/x-python",
   "name": "python",
   "nbconvert_exporter": "python",
   "pygments_lexer": "ipython3",
   "version": "3.9.7"
  },
  "vscode": {
   "interpreter": {
    "hash": "7851a407b34977c3e3d591dc3078b2a80ae8fc36d3f5dce03fc8c6c129a0875d"
   }
  }
 },
 "nbformat": 4,
 "nbformat_minor": 4
}
